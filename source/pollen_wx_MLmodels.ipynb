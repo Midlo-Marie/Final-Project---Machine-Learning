{
 "cells": [
  {
   "cell_type": "markdown",
   "metadata": {},
   "source": [
    "#### This notebook applies various ML algorithms to the pollen and weather data from Richmond, VA\n",
    "We are looking at data from Richmond, Hampton, Danville, and Charlottesville grouped\n",
    "by stations and merged on day from 1998 to 2018"
   ]
  },
  {
   "cell_type": "code",
   "execution_count": 1,
   "metadata": {},
   "outputs": [],
   "source": [
    "import pandas as pd\n",
    "import matplotlib.pyplot as plt\n",
    "import numpy as np"
   ]
  },
  {
   "cell_type": "markdown",
   "metadata": {},
   "source": [
    "### Read the CSV and Perform Basic Data Cleaning"
   ]
  },
  {
   "cell_type": "code",
   "execution_count": 2,
   "metadata": {},
   "outputs": [
    {
     "data": {
      "text/html": [
       "<div>\n",
       "<style scoped>\n",
       "    .dataframe tbody tr th:only-of-type {\n",
       "        vertical-align: middle;\n",
       "    }\n",
       "\n",
       "    .dataframe tbody tr th {\n",
       "        vertical-align: top;\n",
       "    }\n",
       "\n",
       "    .dataframe thead th {\n",
       "        text-align: right;\n",
       "    }\n",
       "</style>\n",
       "<table border=\"1\" class=\"dataframe\">\n",
       "  <thead>\n",
       "    <tr style=\"text-align: right;\">\n",
       "      <th></th>\n",
       "      <th>Unnamed: 0</th>\n",
       "      <th>Tree</th>\n",
       "      <th>Mold</th>\n",
       "      <th>Grass</th>\n",
       "      <th>Ragweed</th>\n",
       "      <th>total-pol</th>\n",
       "      <th>LATITUDE_R</th>\n",
       "      <th>LONGITUDE_R</th>\n",
       "      <th>ELEVATION_R</th>\n",
       "      <th>AWND_R</th>\n",
       "      <th>...</th>\n",
       "      <th>LONGITUDE_H</th>\n",
       "      <th>ELEVATION_H</th>\n",
       "      <th>AWND_H</th>\n",
       "      <th>DAPR_H</th>\n",
       "      <th>MDPR_H</th>\n",
       "      <th>PRCP_H</th>\n",
       "      <th>TAVG_H</th>\n",
       "      <th>TMAX_H</th>\n",
       "      <th>TMIN_H</th>\n",
       "      <th>TOBS_H</th>\n",
       "    </tr>\n",
       "  </thead>\n",
       "  <tbody>\n",
       "    <tr>\n",
       "      <th>0</th>\n",
       "      <td>1998-02-20</td>\n",
       "      <td>46.0</td>\n",
       "      <td>180.0</td>\n",
       "      <td>0.0</td>\n",
       "      <td>0.0</td>\n",
       "      <td>46.0</td>\n",
       "      <td>37.656523</td>\n",
       "      <td>-77.413727</td>\n",
       "      <td>59.866667</td>\n",
       "      <td>4.70</td>\n",
       "      <td>...</td>\n",
       "      <td>-76.28058</td>\n",
       "      <td>5.766667</td>\n",
       "      <td>5.145</td>\n",
       "      <td>NaN</td>\n",
       "      <td>NaN</td>\n",
       "      <td>0.020000</td>\n",
       "      <td>47.333333</td>\n",
       "      <td>51.333333</td>\n",
       "      <td>43.333333</td>\n",
       "      <td>NaN</td>\n",
       "    </tr>\n",
       "    <tr>\n",
       "      <th>1</th>\n",
       "      <td>1998-02-24</td>\n",
       "      <td>5.0</td>\n",
       "      <td>450.0</td>\n",
       "      <td>0.0</td>\n",
       "      <td>0.0</td>\n",
       "      <td>5.0</td>\n",
       "      <td>37.656523</td>\n",
       "      <td>-77.413727</td>\n",
       "      <td>59.866667</td>\n",
       "      <td>17.00</td>\n",
       "      <td>...</td>\n",
       "      <td>-76.28058</td>\n",
       "      <td>5.766667</td>\n",
       "      <td>16.105</td>\n",
       "      <td>NaN</td>\n",
       "      <td>NaN</td>\n",
       "      <td>0.016667</td>\n",
       "      <td>46.500000</td>\n",
       "      <td>53.666667</td>\n",
       "      <td>39.333333</td>\n",
       "      <td>NaN</td>\n",
       "    </tr>\n",
       "    <tr>\n",
       "      <th>2</th>\n",
       "      <td>1998-02-25</td>\n",
       "      <td>18.0</td>\n",
       "      <td>210.0</td>\n",
       "      <td>0.0</td>\n",
       "      <td>0.0</td>\n",
       "      <td>18.0</td>\n",
       "      <td>37.656523</td>\n",
       "      <td>-77.413727</td>\n",
       "      <td>59.866667</td>\n",
       "      <td>13.65</td>\n",
       "      <td>...</td>\n",
       "      <td>-76.28058</td>\n",
       "      <td>5.766667</td>\n",
       "      <td>13.755</td>\n",
       "      <td>NaN</td>\n",
       "      <td>NaN</td>\n",
       "      <td>0.000000</td>\n",
       "      <td>53.833333</td>\n",
       "      <td>62.000000</td>\n",
       "      <td>45.666667</td>\n",
       "      <td>NaN</td>\n",
       "    </tr>\n",
       "    <tr>\n",
       "      <th>3</th>\n",
       "      <td>1998-02-26</td>\n",
       "      <td>124.0</td>\n",
       "      <td>960.0</td>\n",
       "      <td>0.0</td>\n",
       "      <td>0.0</td>\n",
       "      <td>124.0</td>\n",
       "      <td>37.656523</td>\n",
       "      <td>-77.413727</td>\n",
       "      <td>59.866667</td>\n",
       "      <td>3.80</td>\n",
       "      <td>...</td>\n",
       "      <td>-76.28058</td>\n",
       "      <td>5.766667</td>\n",
       "      <td>6.150</td>\n",
       "      <td>NaN</td>\n",
       "      <td>NaN</td>\n",
       "      <td>0.000000</td>\n",
       "      <td>50.833333</td>\n",
       "      <td>60.333333</td>\n",
       "      <td>41.333333</td>\n",
       "      <td>NaN</td>\n",
       "    </tr>\n",
       "    <tr>\n",
       "      <th>4</th>\n",
       "      <td>1998-02-27</td>\n",
       "      <td>504.0</td>\n",
       "      <td>1260.0</td>\n",
       "      <td>0.0</td>\n",
       "      <td>0.0</td>\n",
       "      <td>504.0</td>\n",
       "      <td>37.656523</td>\n",
       "      <td>-77.413727</td>\n",
       "      <td>59.866667</td>\n",
       "      <td>4.25</td>\n",
       "      <td>...</td>\n",
       "      <td>-76.28058</td>\n",
       "      <td>5.766667</td>\n",
       "      <td>4.140</td>\n",
       "      <td>NaN</td>\n",
       "      <td>NaN</td>\n",
       "      <td>0.000000</td>\n",
       "      <td>52.166667</td>\n",
       "      <td>66.666667</td>\n",
       "      <td>37.666667</td>\n",
       "      <td>NaN</td>\n",
       "    </tr>\n",
       "  </tbody>\n",
       "</table>\n",
       "<p>5 rows × 55 columns</p>\n",
       "</div>"
      ],
      "text/plain": [
       "   Unnamed: 0   Tree    Mold  Grass  Ragweed  total-pol  LATITUDE_R  \\\n",
       "0  1998-02-20   46.0   180.0    0.0      0.0       46.0   37.656523   \n",
       "1  1998-02-24    5.0   450.0    0.0      0.0        5.0   37.656523   \n",
       "2  1998-02-25   18.0   210.0    0.0      0.0       18.0   37.656523   \n",
       "3  1998-02-26  124.0   960.0    0.0      0.0      124.0   37.656523   \n",
       "4  1998-02-27  504.0  1260.0    0.0      0.0      504.0   37.656523   \n",
       "\n",
       "   LONGITUDE_R  ELEVATION_R  AWND_R  ...  LONGITUDE_H  ELEVATION_H  AWND_H  \\\n",
       "0   -77.413727    59.866667    4.70  ...    -76.28058     5.766667   5.145   \n",
       "1   -77.413727    59.866667   17.00  ...    -76.28058     5.766667  16.105   \n",
       "2   -77.413727    59.866667   13.65  ...    -76.28058     5.766667  13.755   \n",
       "3   -77.413727    59.866667    3.80  ...    -76.28058     5.766667   6.150   \n",
       "4   -77.413727    59.866667    4.25  ...    -76.28058     5.766667   4.140   \n",
       "\n",
       "   DAPR_H  MDPR_H    PRCP_H     TAVG_H     TMAX_H     TMIN_H  TOBS_H  \n",
       "0     NaN     NaN  0.020000  47.333333  51.333333  43.333333     NaN  \n",
       "1     NaN     NaN  0.016667  46.500000  53.666667  39.333333     NaN  \n",
       "2     NaN     NaN  0.000000  53.833333  62.000000  45.666667     NaN  \n",
       "3     NaN     NaN  0.000000  50.833333  60.333333  41.333333     NaN  \n",
       "4     NaN     NaN  0.000000  52.166667  66.666667  37.666667     NaN  \n",
       "\n",
       "[5 rows x 55 columns]"
      ]
     },
     "execution_count": 2,
     "metadata": {},
     "output_type": "execute_result"
    }
   ],
   "source": [
    "### Data cleaning and merging was accomplished in the Preparing Richmond Data notebook, so straight read of data here.\n",
    "df = pd.read_csv(\"pollen_wx_Region.csv\")\n",
    "df.head()"
   ]
  },
  {
   "cell_type": "markdown",
   "metadata": {},
   "source": [
    "#### From the column definitions, \n",
    "We note that the parameters which are most likely associated with pollens have to do with the \"growth\" seasons\n",
    "from March through September, when the atmosphere is warming and there is more rain. Therefore, we initially select \n",
    "Precipitation, Average Temperature, and average wind as the feature set used to predict Total Pollen, \n",
    "not including mold spores."
   ]
  },
  {
   "cell_type": "code",
   "execution_count": 4,
   "metadata": {},
   "outputs": [],
   "source": [
    "# Set features. This will also be used as your x values.\n",
    "df[\"allergens\"] = df['total-pol'] + df[\"Mold\"]\n",
    "# selected_features = df[['PRCP_R','TAVG_R', 'AWND_R', 'PRCP_C','TAVG_C', 'AWND_C', \n",
    "#                         'PRCP_D','TAVG_D', 'AWND_D','PRCP_H','TAVG_H', 'AWND_H',\n",
    "#                         'allergens']].dropna()\n",
    "selected_features = df[['PRCP_R','TAVG_R', 'PRCP_C','TAVG_C','PRCP_D','TAVG_D','PRCP_H','TAVG_H','allergens']].dropna()"
   ]
  },
  {
   "cell_type": "code",
   "execution_count": 5,
   "metadata": {},
   "outputs": [
    {
     "data": {
      "text/html": [
       "<div>\n",
       "<style scoped>\n",
       "    .dataframe tbody tr th:only-of-type {\n",
       "        vertical-align: middle;\n",
       "    }\n",
       "\n",
       "    .dataframe tbody tr th {\n",
       "        vertical-align: top;\n",
       "    }\n",
       "\n",
       "    .dataframe thead th {\n",
       "        text-align: right;\n",
       "    }\n",
       "</style>\n",
       "<table border=\"1\" class=\"dataframe\">\n",
       "  <thead>\n",
       "    <tr style=\"text-align: right;\">\n",
       "      <th></th>\n",
       "      <th>PRCP_R</th>\n",
       "      <th>TAVG_R</th>\n",
       "      <th>PRCP_C</th>\n",
       "      <th>TAVG_C</th>\n",
       "      <th>PRCP_D</th>\n",
       "      <th>TAVG_D</th>\n",
       "      <th>PRCP_H</th>\n",
       "      <th>TAVG_H</th>\n",
       "      <th>allergens</th>\n",
       "    </tr>\n",
       "  </thead>\n",
       "  <tbody>\n",
       "    <tr>\n",
       "      <th>3384</th>\n",
       "      <td>0.000000</td>\n",
       "      <td>41.666667</td>\n",
       "      <td>0.0425</td>\n",
       "      <td>40.875</td>\n",
       "      <td>0.00</td>\n",
       "      <td>45.5</td>\n",
       "      <td>0.0025</td>\n",
       "      <td>47.500</td>\n",
       "      <td>940.0</td>\n",
       "    </tr>\n",
       "    <tr>\n",
       "      <th>3385</th>\n",
       "      <td>0.673333</td>\n",
       "      <td>43.666667</td>\n",
       "      <td>0.0975</td>\n",
       "      <td>40.000</td>\n",
       "      <td>0.15</td>\n",
       "      <td>30.0</td>\n",
       "      <td>0.4650</td>\n",
       "      <td>48.625</td>\n",
       "      <td>990.0</td>\n",
       "    </tr>\n",
       "    <tr>\n",
       "      <th>3386</th>\n",
       "      <td>0.000000</td>\n",
       "      <td>41.500000</td>\n",
       "      <td>0.0000</td>\n",
       "      <td>41.875</td>\n",
       "      <td>0.00</td>\n",
       "      <td>40.5</td>\n",
       "      <td>0.0000</td>\n",
       "      <td>49.125</td>\n",
       "      <td>1530.0</td>\n",
       "    </tr>\n",
       "    <tr>\n",
       "      <th>3387</th>\n",
       "      <td>0.000000</td>\n",
       "      <td>42.833333</td>\n",
       "      <td>0.0125</td>\n",
       "      <td>38.875</td>\n",
       "      <td>0.00</td>\n",
       "      <td>11.0</td>\n",
       "      <td>0.0000</td>\n",
       "      <td>49.375</td>\n",
       "      <td>1020.0</td>\n",
       "    </tr>\n",
       "    <tr>\n",
       "      <th>3388</th>\n",
       "      <td>0.006667</td>\n",
       "      <td>52.000000</td>\n",
       "      <td>0.0250</td>\n",
       "      <td>44.500</td>\n",
       "      <td>0.00</td>\n",
       "      <td>38.5</td>\n",
       "      <td>0.0000</td>\n",
       "      <td>55.000</td>\n",
       "      <td>1215.0</td>\n",
       "    </tr>\n",
       "  </tbody>\n",
       "</table>\n",
       "</div>"
      ],
      "text/plain": [
       "        PRCP_R     TAVG_R  PRCP_C  TAVG_C  PRCP_D  TAVG_D  PRCP_H  TAVG_H  \\\n",
       "3384  0.000000  41.666667  0.0425  40.875    0.00    45.5  0.0025  47.500   \n",
       "3385  0.673333  43.666667  0.0975  40.000    0.15    30.0  0.4650  48.625   \n",
       "3386  0.000000  41.500000  0.0000  41.875    0.00    40.5  0.0000  49.125   \n",
       "3387  0.000000  42.833333  0.0125  38.875    0.00    11.0  0.0000  49.375   \n",
       "3388  0.006667  52.000000  0.0250  44.500    0.00    38.5  0.0000  55.000   \n",
       "\n",
       "      allergens  \n",
       "3384      940.0  \n",
       "3385      990.0  \n",
       "3386     1530.0  \n",
       "3387     1020.0  \n",
       "3388     1215.0  "
      ]
     },
     "execution_count": 5,
     "metadata": {},
     "output_type": "execute_result"
    }
   ],
   "source": [
    "selected_features.tail()"
   ]
  },
  {
   "cell_type": "code",
   "execution_count": 6,
   "metadata": {},
   "outputs": [],
   "source": [
    "selected_features = selected_features[selected_features[\"allergens\"] > 0]"
   ]
  },
  {
   "cell_type": "code",
   "execution_count": 7,
   "metadata": {},
   "outputs": [
    {
     "name": "stdout",
     "output_type": "stream",
     "text": [
      "2.0\n"
     ]
    }
   ],
   "source": [
    "print(selected_features[\"allergens\"].min())"
   ]
  },
  {
   "cell_type": "markdown",
   "metadata": {},
   "source": [
    "#### Create a Train Test Split\n",
    "Note there are 1060 records in the data set from the cell above.\n",
    "Use `total-pol` for the y (\"target\") values"
   ]
  },
  {
   "cell_type": "code",
   "execution_count": 9,
   "metadata": {},
   "outputs": [
    {
     "name": "stdout",
     "output_type": "stream",
     "text": [
      "The length of combined regional data set is: 3202\n"
     ]
    }
   ],
   "source": [
    "print(f\"The length of combined regional data set is: {len(selected_features)}\" )"
   ]
  },
  {
   "cell_type": "code",
   "execution_count": 10,
   "metadata": {},
   "outputs": [],
   "source": [
    "from sklearn.model_selection import train_test_split\n",
    "from sklearn.preprocessing import LabelEncoder, MinMaxScaler\n",
    "from tensorflow.keras.utils import to_categorical"
   ]
  },
  {
   "cell_type": "code",
   "execution_count": 11,
   "metadata": {},
   "outputs": [
    {
     "name": "stdout",
     "output_type": "stream",
     "text": [
      "0        226.0\n",
      "1        455.0\n",
      "2        228.0\n",
      "3       1084.0\n",
      "4       1764.0\n",
      "         ...  \n",
      "3384     940.0\n",
      "3385     990.0\n",
      "3386    1530.0\n",
      "3387    1020.0\n",
      "3388    1215.0\n",
      "Name: allergens, Length: 3202, dtype: float64\n"
     ]
    }
   ],
   "source": [
    "#assign x and y values\n",
    "X = selected_features.drop(\"allergens\", axis=1)\n",
    "\n",
    "feature_names=X.columns\n",
    "\n",
    "y = selected_features[\"allergens\"]\n",
    "\n",
    "print(y)\n",
    "\n",
    "#split training and testing data\n",
    "X_train, X_test, y_train, y_test = train_test_split(X, y, random_state=63)"
   ]
  },
  {
   "cell_type": "code",
   "execution_count": 12,
   "metadata": {},
   "outputs": [
    {
     "data": {
      "text/html": [
       "<div>\n",
       "<style scoped>\n",
       "    .dataframe tbody tr th:only-of-type {\n",
       "        vertical-align: middle;\n",
       "    }\n",
       "\n",
       "    .dataframe tbody tr th {\n",
       "        vertical-align: top;\n",
       "    }\n",
       "\n",
       "    .dataframe thead th {\n",
       "        text-align: right;\n",
       "    }\n",
       "</style>\n",
       "<table border=\"1\" class=\"dataframe\">\n",
       "  <thead>\n",
       "    <tr style=\"text-align: right;\">\n",
       "      <th></th>\n",
       "      <th>PRCP_R</th>\n",
       "      <th>TAVG_R</th>\n",
       "      <th>PRCP_C</th>\n",
       "      <th>TAVG_C</th>\n",
       "      <th>PRCP_D</th>\n",
       "      <th>TAVG_D</th>\n",
       "      <th>PRCP_H</th>\n",
       "      <th>TAVG_H</th>\n",
       "    </tr>\n",
       "  </thead>\n",
       "  <tbody>\n",
       "    <tr>\n",
       "      <th>2477</th>\n",
       "      <td>0.00</td>\n",
       "      <td>52.625000</td>\n",
       "      <td>0.000</td>\n",
       "      <td>53.500</td>\n",
       "      <td>0.000</td>\n",
       "      <td>55.666667</td>\n",
       "      <td>0.1375</td>\n",
       "      <td>57.250000</td>\n",
       "    </tr>\n",
       "    <tr>\n",
       "      <th>1280</th>\n",
       "      <td>2.51</td>\n",
       "      <td>67.000000</td>\n",
       "      <td>3.125</td>\n",
       "      <td>66.500</td>\n",
       "      <td>0.895</td>\n",
       "      <td>65.166667</td>\n",
       "      <td>3.8625</td>\n",
       "      <td>71.875000</td>\n",
       "    </tr>\n",
       "    <tr>\n",
       "      <th>139</th>\n",
       "      <td>0.00</td>\n",
       "      <td>61.833333</td>\n",
       "      <td>0.000</td>\n",
       "      <td>62.250</td>\n",
       "      <td>0.530</td>\n",
       "      <td>66.000000</td>\n",
       "      <td>0.0000</td>\n",
       "      <td>64.166667</td>\n",
       "    </tr>\n",
       "    <tr>\n",
       "      <th>3374</th>\n",
       "      <td>0.00</td>\n",
       "      <td>52.833333</td>\n",
       "      <td>0.000</td>\n",
       "      <td>50.875</td>\n",
       "      <td>0.000</td>\n",
       "      <td>54.000000</td>\n",
       "      <td>0.0000</td>\n",
       "      <td>54.875000</td>\n",
       "    </tr>\n",
       "    <tr>\n",
       "      <th>1102</th>\n",
       "      <td>0.00</td>\n",
       "      <td>43.625000</td>\n",
       "      <td>0.000</td>\n",
       "      <td>43.000</td>\n",
       "      <td>0.000</td>\n",
       "      <td>43.000000</td>\n",
       "      <td>0.0000</td>\n",
       "      <td>46.625000</td>\n",
       "    </tr>\n",
       "  </tbody>\n",
       "</table>\n",
       "</div>"
      ],
      "text/plain": [
       "      PRCP_R     TAVG_R  PRCP_C  TAVG_C  PRCP_D     TAVG_D  PRCP_H     TAVG_H\n",
       "2477    0.00  52.625000   0.000  53.500   0.000  55.666667  0.1375  57.250000\n",
       "1280    2.51  67.000000   3.125  66.500   0.895  65.166667  3.8625  71.875000\n",
       "139     0.00  61.833333   0.000  62.250   0.530  66.000000  0.0000  64.166667\n",
       "3374    0.00  52.833333   0.000  50.875   0.000  54.000000  0.0000  54.875000\n",
       "1102    0.00  43.625000   0.000  43.000   0.000  43.000000  0.0000  46.625000"
      ]
     },
     "execution_count": 12,
     "metadata": {},
     "output_type": "execute_result"
    }
   ],
   "source": [
    "X_train.tail()"
   ]
  },
  {
   "cell_type": "code",
   "execution_count": 13,
   "metadata": {},
   "outputs": [
    {
     "data": {
      "text/plain": [
       "2477    2460.0\n",
       "1280    5931.0\n",
       "139     5799.0\n",
       "3374    3540.0\n",
       "1102    1440.0\n",
       "Name: allergens, dtype: float64"
      ]
     },
     "execution_count": 13,
     "metadata": {},
     "output_type": "execute_result"
    }
   ],
   "source": [
    "y_train.tail()"
   ]
  },
  {
   "cell_type": "markdown",
   "metadata": {},
   "source": [
    "### Pre-processing\n",
    "\n",
    "Scale the data using the MinMaxScaler and perform some feature selection"
   ]
  },
  {
   "cell_type": "code",
   "execution_count": 14,
   "metadata": {},
   "outputs": [
    {
     "name": "stdout",
     "output_type": "stream",
     "text": [
      "Training Score: 0.38260643370480796\n",
      "Testing Score: 0.3516783775513854\n"
     ]
    }
   ],
   "source": [
    "### Multiple regression model since there are only 3 features\n",
    "\n",
    "### BEGIN SOLUTION\n",
    "from sklearn.linear_model import LinearRegression\n",
    "model = LinearRegression()\n",
    "### END SOLUTION\n",
    "\n",
    " # Fit the model to the training data and calculate the scores for the training and testing data\n",
    "\n",
    "### BEGIN SOLUTION\n",
    "model.fit(X_train, y_train)\n",
    "training_score = model.score(X_train, y_train)\n",
    "testing_score = model.score(X_test, y_test)\n",
    "\n",
    "### END SOLUTION \n",
    "\n",
    "print(f\"Training Score: {training_score}\")\n",
    "print(f\"Testing Score: {testing_score}\")\n"
   ]
  },
  {
   "cell_type": "code",
   "execution_count": 15,
   "metadata": {},
   "outputs": [
    {
     "data": {
      "image/png": "[encoded data removed]",
      "text/plain": [
       "<Figure size 432x288 with 1 Axes>"
      ]
     },
     "metadata": {
      "needs_background": "light"
     },
     "output_type": "display_data"
    }
   ],
   "source": [
    "predictions = model.predict(X_test)\n",
    "predictions = np.array([0 if p < 0 else p for p in predictions])\n",
    "# Plot Residuals\n",
    "plt.xlabel('predictions_region')\n",
    "plt.ylabel('y_test')\n",
    "plt.scatter(predictions, y_test)\n",
    "plt.hlines(y=0, xmin=predictions.min(), xmax=predictions.max())\n",
    "plt.show()"
   ]
  },
  {
   "cell_type": "code",
   "execution_count": 16,
   "metadata": {},
   "outputs": [
    {
     "name": "stdout",
     "output_type": "stream",
     "text": [
      "Mean Squared Error (MSE): 5153732.546301785\n",
      "R-squared (R2 ): 0.3517249619599787\n"
     ]
    }
   ],
   "source": [
    "from sklearn.metrics import mean_squared_error, r2_score\n",
    "\n",
    "# Score the prediction with mse and r2\n",
    "mse = mean_squared_error(y_test, predictions)\n",
    "r2 = r2_score(y_test, predictions)\n",
    "\n",
    "print(f\"Mean Squared Error (MSE): {mse}\")\n",
    "print(f\"R-squared (R2 ): {r2}\")"
   ]
  },
  {
   "cell_type": "code",
   "execution_count": null,
   "metadata": {},
   "outputs": [],
   "source": [
    "### Look at decision tree - regression as an alternative"
   ]
  },
  {
   "cell_type": "code",
   "execution_count": 17,
   "metadata": {},
   "outputs": [],
   "source": [
    "import numpy as np\n",
    "from sklearn.tree import DecisionTreeRegressor\n",
    "import matplotlib.pyplot as plt\n"
   ]
  },
  {
   "cell_type": "code",
   "execution_count": null,
   "metadata": {},
   "outputs": [],
   "source": [
    "## KEEP THIS EXAMPLE IN THE NOTEBOOK TO REMIND ME HOW TO USE\n",
    "# # Import the necessary modules and libraries\n",
    "\n",
    "# # Create a random dataset\n",
    "# rng = np.random.RandomState(1)\n",
    "# X = np.sort(5 * rng.rand(80, 1), axis=0)\n",
    "# y = np.sin(X).ravel()\n",
    "# y[::5] += 3 * (0.5 - rng.rand(16))\n",
    "\n",
    "# # Fit regression model\n",
    "# regr_1 = DecisionTreeRegressor(max_depth=2)\n",
    "# regr_2 = DecisionTreeRegressor(max_depth=5)\n",
    "# regr_1.fit(X, y)\n",
    "# regr_2.fit(X, y)\n",
    "\n",
    "# # Predict\n",
    "# X_test = np.arange(0.0, 5.0, 0.01)[:, np.newaxis]\n",
    "# y_1 = regr_1.predict(X_test)\n",
    "# y_2 = regr_2.predict(X_test)\n",
    "\n",
    "# # Plot the results\n",
    "# plt.figure()\n",
    "# plt.scatter(X, y, s=20, edgecolor=\"black\",\n",
    "#             c=\"darkorange\", label=\"data\")\n",
    "# plt.plot(X_test, y_1, color=\"cornflowerblue\",\n",
    "#          label=\"max_depth=2\", linewidth=2)\n",
    "# plt.plot(X_test, y_2, color=\"yellowgreen\", label=\"max_depth=5\", linewidth=2)\n",
    "# plt.xlabel(\"data\")\n",
    "# plt.ylabel(\"target\")\n",
    "# plt.title(\"Decision Tree Regression\")\n",
    "# plt.legend()\n",
    "# plt.show()"
   ]
  },
  {
   "cell_type": "code",
   "execution_count": null,
   "metadata": {},
   "outputs": [],
   "source": [
    "regr_1.score(X,y)"
   ]
  },
  {
   "cell_type": "code",
   "execution_count": null,
   "metadata": {},
   "outputs": [],
   "source": [
    "print(X_train.shape)\n",
    "print(y_train.shape)\n"
   ]
  },
  {
   "cell_type": "code",
   "execution_count": 37,
   "metadata": {},
   "outputs": [
    {
     "data": {
      "text/plain": [
       "-0.08422471274139864"
      ]
     },
     "execution_count": 37,
     "metadata": {},
     "output_type": "execute_result"
    }
   ],
   "source": [
    "# from sklearn.tree import DecisionTreeRegressor\n",
    "regressor = DecisionTreeRegressor(random_state = 63, max_depth=12)\n",
    "\n",
    "regressor.fit(X_train, y_train)\n",
    "\n",
    "# Predicting a new result with the Decision Tree Regression\n",
    "\n",
    "Y_Pred = regressor.predict(X_test)\n",
    "\n",
    "regressor.score(X_test, y_test)\n",
    "\n",
    "# # # Visualising the Decision Tree Regression results in higher resolution and smoother curve\n",
    "# X_Grid = np.arange(min(X_train), max(X_train), 0.01)\n",
    "# X_Grid = X_Grid.reshape((len(X_Grid), 1))\n",
    "# plt.scatter(X_train,y_train, color = 'red')\n",
    "# plt.plot(X_test, regressor.predict(X_test), color = 'blue')\n",
    "# plt.title('Decision Tree Regression Results')\n",
    "# plt.xlabel('Weather')\n",
    "# plt.ylabel('Allergens')\n",
    "# plt.show()"
   ]
  },
  {
   "cell_type": "code",
   "execution_count": 38,
   "metadata": {},
   "outputs": [
    {
     "name": "stdout",
     "output_type": "stream",
     "text": [
      "Mean Squared Error (MSE): 8619496.1423381\n",
      "R-squared (R2 ): -0.08422471274139864\n"
     ]
    }
   ],
   "source": [
    "# Score the prediction with mse and r2\n",
    "mse = mean_squared_error(y_test, Y_Pred)\n",
    "r2 = r2_score(y_test, Y_Pred)\n",
    "\n",
    "print(f\"Mean Squared Error (MSE): {mse}\")\n",
    "print(f\"R-squared (R2 ): {r2}\")"
   ]
  },
  {
   "cell_type": "code",
   "execution_count": 40,
   "metadata": {},
   "outputs": [
    {
     "data": {
      "image/png": "[encoded data removed]",
      "text/plain": [
       "<Figure size 432x288 with 1 Axes>"
      ]
     },
     "metadata": {
      "needs_background": "light"
     },
     "output_type": "display_data"
    }
   ],
   "source": [
    "predictions = regressor.predict(X_test)\n",
    "# predictions = np.array([0 if p < 0 else p for p in predictions])\n",
    "# Plot Residuals\n",
    "plt.xlabel(\"dt_predictions maxdepth=12\")\n",
    "plt.scatter(predictions, y_test)\n",
    "plt.hlines(y=0, xmin=predictions.min(), xmax=predictions.max())\n",
    "plt.show()"
   ]
  },
  {
   "cell_type": "code",
   "execution_count": 41,
   "metadata": {},
   "outputs": [
    {
     "name": "stdout",
     "output_type": "stream",
     "text": [
      "Training Score: 0.7865318858476307\n",
      "Testing Score: -0.08422471274139864\n"
     ]
    }
   ],
   "source": [
    "training_score = regressor.score(X_train, y_train)\n",
    "testing_score = regressor.score(X_test, y_test)\n",
    "\n",
    "### END SOLUTION \n",
    "\n",
    "print(f\"Training Score: {training_score}\")\n",
    "print(f\"Testing Score: {testing_score}\")"
   ]
  },
  {
   "cell_type": "code",
   "execution_count": 42,
   "metadata": {},
   "outputs": [
    {
     "name": "stdout",
     "output_type": "stream",
     "text": [
      "Mean Squared Error (MSE): 8619496.1423381\n",
      "R-squared (R2 ): -0.08422471274139864\n"
     ]
    }
   ],
   "source": [
    "# Score the prediction with mse and r2\n",
    "mse = mean_squared_error(y_test, predictions)\n",
    "r2 = r2_score(y_test, predictions)\n",
    "\n",
    "print(f\"Mean Squared Error (MSE): {mse}\")\n",
    "print(f\"R-squared (R2 ): {r2}\")"
   ]
  },
  {
   "cell_type": "code",
   "execution_count": null,
   "metadata": {},
   "outputs": [],
   "source": [
    "from sklearn.preprocessing import PolynomialFeatures\n",
    "from sklearn.linear_model import LinearRegression\n",
    "from sklearn.pipeline import Pipeline\n",
    "import numpy as np\n",
    "model = Pipeline([('poly', PolynomialFeatures(degree=2)),\n",
    "                  ('linear', LinearRegression(fit_intercept=False))])\n",
    "# fit to an order-3 polynomial data\n",
    "# x = np.arange(5)\n",
    "# y = 3 - 2 * x + x ** 2 - x ** 3\n",
    "# model = model.fit(x[:, np.newaxis], y)\n",
    "model = model.fit(X_train, y_train)\n",
    "model.named_steps['linear'].coef_"
   ]
  },
  {
   "cell_type": "code",
   "execution_count": null,
   "metadata": {
    "scrolled": true
   },
   "outputs": [],
   "source": [
    "predictions = model.predict(X_test)\n",
    "# Plot Residuals\n",
    "model.score(X_test, y_test)"
   ]
  },
  {
   "cell_type": "code",
   "execution_count": null,
   "metadata": {},
   "outputs": [],
   "source": [
    "# Score the prediction with mse and r2\n",
    "mse = mean_squared_error(y_test, predictions)\n",
    "r2 = r2_score(y_test, predictions)\n",
    "\n",
    "print(f\"Mean Squared Error (MSE): {mse}\")\n",
    "print(f\"R-squared (R2 ): {r2}\")"
   ]
  },
  {
   "cell_type": "code",
   "execution_count": null,
   "metadata": {},
   "outputs": [],
   "source": [
    "predictions = model.predict(X_test)\n",
    "predictions = np.array([0 if p < 0 else p for p in predictions])\n",
    "# Plot Residuals\n",
    "plt.scatter(predictions, y_test)\n",
    "plt.hlines(y=0, xmin=predictions.min(), xmax=predictions.max())\n",
    "plt.show()"
   ]
  },
  {
   "cell_type": "code",
   "execution_count": 64,
   "metadata": {},
   "outputs": [
    {
     "name": "stdout",
     "output_type": "stream",
     "text": [
      "[6634.79386845 6690.78236686 4899.30975309 2657.66769231 7319.66403162\n",
      " 3918.20426743 2340.24836601 1212.03361345 5556.75928489 6118.31017699\n",
      " 7151.64447236 4394.9802969  6709.56180723 3631.82043551 5588.03260369\n",
      " 3079.92244165 6781.03976064 6587.28223897 6109.63249243 6525.7258956\n",
      " 6884.79893455 3348.86755853 4666.7052161  2453.44570136 5101.001125\n",
      " 6614.83619362 4520.5496361  2368.04669261 2844.25629921 6296.48436874\n",
      " 6496.19180328 5252.86122209 4243.11280576 3767.40449827 6176.79522863\n",
      " 3242.03567753 6295.31084577 6735.62212042 5183.75941677 1979.4151436\n",
      " 3423.48917609 6419.58450561 6635.15463576 6758.35774112 4376.18609929\n",
      " 5287.84832936 6200.64901758 6283.06115538 5915.59338759 4295.95567568\n",
      " 5196.72694118 4807.37625628 6320.82213115 3749.43262195 3735.50842607\n",
      " 7595.72159091 6349.26387226 5417.0716092  4541.88529412 4594.49259777\n",
      " 2251.05324074 2652.93144016 4137.72744828 3980.82447257 5437.95881643\n",
      " 7102.73690476 6498.90121212 4226.7925     4261.17159309 4252.0111869\n",
      " 3705.24672619 2314.94266055 4458.24215385 1910.21470588 6377.39777553\n",
      " 6597.30247845 2402.43626062 2720.27117988 4043.05498008 2128.96376812\n",
      " 3265.1814876  3701.59070632 6389.74247697 4652.93293333 3133.6453125\n",
      " 6415.25363881 6125.73927126 4565.91236264 3626.63918495 2153.77985948\n",
      " 6505.995087   5915.2977665  4183.95403557 4853.48852259 3666.04963289\n",
      " 5249.21866825 4776.9124     3653.26317365 3218.02767075 5676.97434944\n",
      " 1157.34210526 3343.12465278 2418.44351464 5371.1904142  6680.53730815\n",
      " 4141.43120125 6581.89840933 3307.96460768 6340.5402863  2935.74989648\n",
      " 6147.08531746 2648.95942623 4144.80499307 6630.89128386 2962.16873662\n",
      " 1480.50510204 2131.56666667 4451.13993902 5530.68582949 6494.80344828\n",
      " 3655.55039002 3641.45312977 3149.4490566  1957.09415584 4647.93351135\n",
      " 4381.06156463 2474.79957717 4799.92253521 5386.14609375 5908.88271605\n",
      " 4728.4788674  4868.94580247 6383.18593272 5789.99470124 6558.74110302\n",
      " 5013.88108484 4953.50871212 6791.16466667 4576.84151967 4762.26169896\n",
      " 6760.37373868 3258.75687606 2869.01072089 5499.11987879 6563.97413973\n",
      " 3634.01590909 6665.15254042 4285.48653061 6291.78105683 1950.22752809\n",
      " 6079.89342629 6821.40068966 6251.72195609 6641.91845638 1780.25245902\n",
      " 2911.03978102 6753.77026349 6488.07386478 1525.65966387 1805.14332248\n",
      " 4904.80819672 1189.69642857 6941.90322061 6431.35090329 5252.21225728\n",
      " 6199.08505747 1954.53225806 5920.41363163 2175.6734104  2428.84116331\n",
      " 4141.97552156 4777.64871465 6898.17228178 6448.41149194 6219.25345345\n",
      " 6893.73742236 4920.76857143 3156.36267123 5668.29274554 5990.40932642\n",
      " 6089.40966387 7011.15407555 6830.73282967 4798.38305732 5611.20163221\n",
      " 4763.19021601 7024.26175214 6192.88510204 6910.96723602 6572.91461378\n",
      " 3643.78917293 4665.65830013 6252.43483483 3639.41263482 6013.77459016\n",
      " 2318.86637931 5494.27659817 4278.45146036 4145.18735955 7049.94527897\n",
      " 5560.07519481 6643.3858783  6120.64135864 5291.75564516 3408.30576923\n",
      " 6729.825      5203.97422803 4338.99196557 6054.091      3770.94361233\n",
      " 1912.41833811 5850.35199569 5535.66106195 6840.87094395 6621.11073384\n",
      " 3115.00139373 6074.16076845 3124.75362832 6034.674      6741.36783479\n",
      " 6859.77957746 3390.01116585 6862.5685241  1945.64959569 5436.09377934\n",
      " 6305.21382766 1463.36170213 1664.19847328 6394.49485368 5032.8641129\n",
      " 6403.95060976 1610.34883721 2707.20114723 6778.86537949 3762.81773256\n",
      " 5088.9567734  2494.02595745 2569.06666667 6118.05739726 3620.15507692\n",
      " 1987.49479167 2872.56123188 6686.93590963 5432.37826087 4234.66419401\n",
      " 5365.30561404 6812.62167553 5749.12742475 2889.18701299 3192.53836735\n",
      " 5944.09554205 2897.09628253 5024.96826802 3380.13694915 4487.38688525\n",
      " 2224.76744186 1848.49201278 5535.88222958 3308.76515913 6686.06115023\n",
      " 1197.32478632 4856.33738796 1952.66120219 2139.4797136  1419.70857143\n",
      " 4237.0562406  3356.11676768 5354.69787472 3664.9437014  3719.14599303\n",
      " 6682.27737819 6707.32416769 5060.10237248 2681.83438735 1722.92198582\n",
      " 4630.18230885 6071.85813492 3437.45249538 6574.95562633 6996.51694915\n",
      " 6047.4030303  3794.26921899 5585.88649554 1780.81028939 3006.86195652\n",
      " 6713.14909311 6728.87285181 7186.11607143 6391.03165323 6462.82922923\n",
      " 5912.98694758 6621.39351648 6756.05907336 1322.83544304 6083.4011976\n",
      " 1982.37994723 6647.72165746 2465.06902287 6753.77329114 7042.01565762\n",
      " 5612.29359551 3386.27152104 6971.107      5122.22634731 5980.41490433\n",
      " 4184.82378976 6068.7361658  5112.83767209 4201.16005548 3056.34836224\n",
      " 6730.93077889 3560.31114504 6374.68060914 3098.45       5966.35802846\n",
      " 4856.83071325 5312.39340278 5295.35519663 5791.41513228 4928.25180879\n",
      " 5356.74284104 3961.56       5176.91626794 2871.30352941 6181.77896825\n",
      " 1744.70163934 4865.24596026 3088.16573427 6677.58462441 3311.9582038\n",
      " 6638.08412162 3854.81200586 1794.64495114 5149.38325472 4253.59479452\n",
      " 6465.6004111  6531.78525441 2604.09151139 6753.05839695 6853.38119534\n",
      " 4783.8049936  2249.18325792 6849.02871148 3330.81980198 5861.13448637\n",
      " 4133.92980333 3321.86960168 5167.22597577 6257.83695431 6196.6688755\n",
      " 6410.51959596 6710.12146283 2694.14112554 5544.93556531 3109.63362522\n",
      " 4887.5786445  5024.11441103 4404.87633136 5126.68505025 6615.10682068\n",
      " 6357.60844221 1796.34083601 6205.69867841 2502.98631791 6686.30534442\n",
      " 3733.06445087 7012.8363472  1775.50675676 1462.74157303 2483.61401274\n",
      " 7476.90452261 5057.58092269 1939.71900826 3496.33108614 6853.65189873\n",
      " 7078.11150235 6591.3377562  2001.2997416  4929.96753731 6698.93997585\n",
      " 4272.3301676  3938.50939597 5001.01649616 5051.42218045 3642.37850638\n",
      " 6492.59249493 5904.99724208 4212.19506173 1499.36681223 3559.9007728\n",
      " 6302.40392157 2840.4788785  3240.25302013 3703.96252019 6495.32072801\n",
      " 6574.82528978 2456.92173913 6539.75861345 4182.92684932 6412.89264854\n",
      " 5030.6939951  2234.68704156 6242.35287009 6600.96028446 5125.92831541\n",
      " 6392.56233367 1734.89144737 5971.86373166 4714.70315068 6728.15275689\n",
      " 1004.05882353 2768.46176471 5460.67278037 2274.73239437 4974.73619403\n",
      " 5521.01047297 6850.23753463 3799.83975535 6095.75934066 3450.53380035\n",
      " 6979.029      6996.95526839 2835.00917782 4354.24790257 7025.10509554\n",
      " 2445.67593819 6343.04357657 6712.13223039 4853.85200974 2467.15284553\n",
      " 5792.02759706 3726.71118314 6568.04260231 6923.41863057 6742.5612782\n",
      " 3875.53040847 4745.06994885 5876.26118012 6403.73139785 1692.75\n",
      " 3977.64096728 4768.096139   4253.33745928 1500.27111111 4322.88958631\n",
      " 3182.6432526  2740.741527   3676.39620853 3691.75904437 6403.46288032\n",
      " 2177.03480278 6395.14122449 5309.3701995  2364.27765727 3546.8408805\n",
      " 3210.68640275 1344.28930818 2745.83147793 4769.16360947 3299.45240464\n",
      " 7113.85900474 6220.22008114 6388.07010101 6608.10336957 6947.64431818\n",
      " 1210.4        5198.88820093 4469.33779637 4416.84219858 4164.06970173\n",
      " 3025.74169611 3621.4134647  6853.52887324 6398.45840164 1616.21509434\n",
      " 1198.76068376 1884.74164134 6129.07102922 2035.81141439 6865.31014925\n",
      " 3205.00996564 4236.19397781 6150.80454545 4168.40375723 6760.06023622\n",
      " 6864.89087019 5296.52288136 1945.23098592 6229.9979859  6707.40540865\n",
      " 3947.56452074 3206.09307958 1744.15151515 2488.10644491 3947.34807122\n",
      " 6052.85485485 6390.08348718 6376.12060606 5926.37939959 6866.19657228\n",
      " 5071.96791511 5040.17134071 5932.59067623 4409.99157212 6331.85414938\n",
      " 1295.98675497 5004.0902133  1841.80864198 3071.86797153 5554.81962306\n",
      " 6522.06970954 2504.20663265 5055.43070284 5067.39468713 5130.56213018\n",
      " 6185.03346774 3625.92899628 6647.53359375 2243.52134831 6128.17835671\n",
      " 1611.35361217 6030.95242915 3573.16006826 6728.95923645 2020.74494949\n",
      " 6330.79051463 4136.77162921 6576.54499473 3242.14529307 6377.77492417\n",
      " 2899.98659218 5462.0331448  7228.93202417 6982.65072202 5539.37131783\n",
      " 6385.03306122 6926.97946708 6717.32282609  983.57142857 4655.87526738\n",
      " 7285.30634921 4298.7357453  2534.75238095 2090.95384615 6460.96150713\n",
      " 6277.88365095 3323.40855019 2756.09204819 6498.62318548 2562.94309979\n",
      " 6001.68768769 4773.51306018 6219.2159919  4962.44173127 6475.16153051\n",
      " 6926.89744    2875.83540146 6386.83204868 4541.31084337 4149.84831625\n",
      " 4931.36070959 1633.48717949 4442.46197991 2430.72019465 1552.32806324\n",
      " 5672.04225806 4954.28120393 2027.64576803 6786.91917989 4777.22762646\n",
      " 2791.1698324  4807.28867439 3006.92327747 5287.408753   6937.21596774\n",
      " 6112.83084577 5584.77412756 6723.17311436 1417.38857143 4072.06021841\n",
      " 3209.27698113 4842.85238693 6366.26377397 7058.55162524 5093.66621622\n",
      " 2217.15704388 2522.25396825 5368.30044693 6504.92406091 6058.37152104\n",
      " 6570.00545073 3468.58862385 4474.87510204 3400.25451613 5305.2752754\n",
      " 4866.76063291 2947.7681736  4378.39272237 3891.17586727 6059.49702381\n",
      " 3651.36470588 5593.19406495 6904.9653605  3131.38266898 3214.33127148\n",
      " 6912.69830247 4649.77782427 6848.32103064 4933.18881748 6219.06985075\n",
      " 6919.05427683 4468.68191654 2758.10384615 1572.9123506  5725.02952612\n",
      " 6188.43935091 5840.62256034 6040.61952191 3499.76988906 4501.68027586\n",
      " 6356.975      6597.23246471 5922.7095723  7025.91059028 6458.91241171\n",
      " 2727.38587786 6351.80520521 2489.56321839 4056.6570922  4484.57170596\n",
      " 3628.92492212 2025.63231198 3579.65140962 6361.12188482 6863.89283668\n",
      " 4473.47224547 6146.4409514  4922.64174312 1874.29154519 6716.08573171\n",
      " 4473.60415512 4932.35551425 6927.85877743 3956.21626248 1578.32017544\n",
      " 6993.05310621 3472.08736842 5594.49033333 6505.42978723 3168.50918544\n",
      " 2305.96956522 1570.83870968 6462.06733467 5174.7915777  2474.79957717\n",
      " 5574.31379691 6583.75096263 6766.7348564  3683.18636364 6589.6301826\n",
      " 5301.12675894 3297.10104895 5159.60128355 1069.28571429 6168.2416\n",
      " 1486.07762557 4529.46231691 3621.11809211 3626.39620253 2783.68461538\n",
      " 4008.34446003 3260.3237435  5717.9981857  4747.78665768 7012.93208661\n",
      " 4556.10901857 6606.0174569  3311.19061977 2288.85201794 7047.68937644\n",
      " 3303.05606838 4839.01171053 5470.96396292 6338.08246154 3156.11637631\n",
      " 6871.4886202  3328.99967742 5672.50511905 4910.50387097 6083.8493014\n",
      " 3970.92152975 7002.00844278 3327.87034483 4283.43132867 1398.38125\n",
      " 6925.19122807 6310.95412475 6659.80358382 4930.41438746 2188.78787879\n",
      " 3684.46605505 2390.95940171 5028.26706349 4775.03020566 4228.00350404\n",
      " 2509.39747899 4198.86951724 5966.65316719 5200.9397892  1490.64390244\n",
      " 6330.82771084 5194.98677379 4188.20333333 1717.11347518 6390.83977401\n",
      " 6371.09908444 3467.0466899  6565.98763103 3022.37625232 5030.81961023\n",
      " 2445.49509595 2208.640553   5765.33728261 4930.00848564 2627.75521236\n",
      " 5031.42771673 3381.20894454 4173.7525741  2180.15654206 4344.41693989\n",
      " 6334.45917526 1024.85       4094.04683544 2646.04979424 5462.00743802\n",
      " 2927.77033248 6276.56097561 6943.0376378  3716.55265152 2577.43109244\n",
      " 6632.28362637 6647.92536806 5667.69213362 3612.92837633 4151.72017167\n",
      " 1417.06358382 6678.20816092 6543.94       6073.32111001 2748.94808853\n",
      " 3396.85528169 1274.5952381  5342.79430894 2533.66966732 1660.67266187\n",
      " 6848.7351632  3179.37866667 2485.8936345  1956.36411609 6603.08514532\n",
      " 4375.35533981 4272.696      6719.57567901 2815.8610101  4274.69581006\n",
      " 3501.73448873 1453.63959391 3317.02594417 3547.51980676 5492.52632275\n",
      " 7015.09153543 6976.85816327 6683.45218935 3659.50944528 6610.19704595\n",
      " 6914.53090062 5883.11926316 5326.90362401 6531.44816327 2944.34936248\n",
      " 6499.70542477 6043.46384298 6073.39225422 3132.59500891 3537.65931559\n",
      " 6580.40785563 4228.42152975 3718.52212121 6547.77671518 6721.89248485\n",
      " 6707.77172082 7038.93455497 5148.57886279 1034.74683544 3342.17717391\n",
      " 4742.67736573 3610.38419453 6658.77284091 5798.19502646 3046.73698031\n",
      " 6710.99672727]\n"
     ]
    }
   ],
   "source": [
    "from sklearn.neighbors import RadiusNeighborsRegressor\n",
    "neigh = RadiusNeighborsRegressor(radius=15)\n",
    "\n",
    "neigh.fit(X_train, y_train)\n",
    "\n",
    "print(neigh.predict(X_test))"
   ]
  },
  {
   "cell_type": "code",
   "execution_count": 65,
   "metadata": {},
   "outputs": [
    {
     "name": "stdout",
     "output_type": "stream",
     "text": [
      "Mean Squared Error (MSE): 5226997.472351271\n",
      "R-squared (R2 ): 0.3425091514197496\n"
     ]
    }
   ],
   "source": [
    "# Score the prediction with mse and r2\n",
    "predictions = neigh.predict(X_test)\n",
    "mse = mean_squared_error(y_test, predictions)\n",
    "r2 = r2_score(y_test, predictions)\n",
    "\n",
    "print(f\"Mean Squared Error (MSE): {mse}\")\n",
    "print(f\"R-squared (R2 ): {r2}\")"
   ]
  },
  {
   "cell_type": "code",
   "execution_count": 66,
   "metadata": {},
   "outputs": [
    {
     "data": {
      "image/png": "[encoded data removed]",
      "text/plain": [
       "<Figure size 432x288 with 1 Axes>"
      ]
     },
     "metadata": {
      "needs_background": "light"
     },
     "output_type": "display_data"
    }
   ],
   "source": [
    "# predictions = model.predict(X_test)\n",
    "predictions = np.array([0 if p < 0 else p for p in predictions])\n",
    "# Plot Residuals\n",
    "plt.xlabel(\"predictions_KNN_rad15\")\n",
    "plt.ylabel(\"y_test\")\n",
    "plt.scatter(predictions, y_test)\n",
    "plt.hlines(y=0, xmin=predictions.min(), xmax=predictions.max())\n",
    "plt.show()"
   ]
  },
  {
   "cell_type": "markdown",
   "metadata": {},
   "source": [
    "# Save the Model"
   ]
  },
  {
   "cell_type": "code",
   "execution_count": 67,
   "metadata": {},
   "outputs": [
    {
     "data": {
      "text/plain": [
       "['pollen_KNN15_Colton.sav']"
      ]
     },
     "execution_count": 67,
     "metadata": {},
     "output_type": "execute_result"
    }
   ],
   "source": [
    "# save your model by updating \"your_name\" with your name\n",
    "# and \"your_model\" with your model variable\n",
    "# be sure to turn this in to BCS\n",
    "# if joblib fails to import, try running the command to install in terminal/git-bash\n",
    "import joblib\n",
    "filename = 'pollen_KNN15_Colton.sav'\n",
    "joblib.dump(neigh, filename)"
   ]
  }
 ],
 "metadata": {
  "kernel_info": {
   "name": "dev"
  },
  "kernelspec": {
   "display_name": "Python 3",
   "language": "python",
   "name": "python3"
  },
  "language_info": {
   "codemirror_mode": {
    "name": "ipython",
    "version": 3
   },
   "file_extension": ".py",
   "mimetype": "text/x-python",
   "name": "python",
   "nbconvert_exporter": "python",
   "pygments_lexer": "ipython3",
   "version": "3.6.9"
  },
  "nteract": {
   "version": "0.12.3"
  }
 },
 "nbformat": 4,
 "nbformat_minor": 2
}
