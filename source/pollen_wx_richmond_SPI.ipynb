{
 "cells": [
  {
   "cell_type": "markdown",
   "metadata": {},
   "source": [
    "#### This notebook applies a random forest ML algorithm to the pollen and weather data from Richmond, VA\n",
    "We are looking at data from Richmond only, with SPI included.  Shorter file.\n"
   ]
  },
  {
   "cell_type": "code",
   "execution_count": 16,
   "metadata": {},
   "outputs": [],
   "source": [
    "import pandas as pd\n",
    "import numpy as np\n",
    "import matplotlib.pyplot as plt"
   ]
  },
  {
   "cell_type": "markdown",
   "metadata": {},
   "source": [
    "### Read the CSV and Perform Basic Data Cleaning"
   ]
  },
  {
   "cell_type": "code",
   "execution_count": 6,
   "metadata": {},
   "outputs": [
    {
     "data": {
      "text/html": [
       "<div>\n",
       "<style scoped>\n",
       "    .dataframe tbody tr th:only-of-type {\n",
       "        vertical-align: middle;\n",
       "    }\n",
       "\n",
       "    .dataframe tbody tr th {\n",
       "        vertical-align: top;\n",
       "    }\n",
       "\n",
       "    .dataframe thead th {\n",
       "        text-align: right;\n",
       "    }\n",
       "</style>\n",
       "<table border=\"1\" class=\"dataframe\">\n",
       "  <thead>\n",
       "    <tr style=\"text-align: right;\">\n",
       "      <th></th>\n",
       "      <th>Unnamed: 0</th>\n",
       "      <th>Tree</th>\n",
       "      <th>Mold</th>\n",
       "      <th>Grass</th>\n",
       "      <th>Ragweed</th>\n",
       "      <th>total-pol</th>\n",
       "      <th>SPI</th>\n",
       "      <th>LATITUDE</th>\n",
       "      <th>LONGITUDE</th>\n",
       "      <th>ELEVATION</th>\n",
       "      <th>...</th>\n",
       "      <th>PRCP</th>\n",
       "      <th>TAVG</th>\n",
       "      <th>TMAX</th>\n",
       "      <th>TMIN</th>\n",
       "      <th>TOBS</th>\n",
       "      <th>TSUN</th>\n",
       "      <th>WDF2</th>\n",
       "      <th>WESD</th>\n",
       "      <th>WESF</th>\n",
       "      <th>WV03</th>\n",
       "    </tr>\n",
       "  </thead>\n",
       "  <tbody>\n",
       "    <tr>\n",
       "      <th>0</th>\n",
       "      <td>2010-02-22</td>\n",
       "      <td>0.0</td>\n",
       "      <td>630.0</td>\n",
       "      <td>0.0</td>\n",
       "      <td>0.0</td>\n",
       "      <td>0.0</td>\n",
       "      <td>0.491429</td>\n",
       "      <td>37.628435</td>\n",
       "      <td>-77.379253</td>\n",
       "      <td>57.475</td>\n",
       "      <td>...</td>\n",
       "      <td>0.1175</td>\n",
       "      <td>41.50</td>\n",
       "      <td>53.25</td>\n",
       "      <td>29.75</td>\n",
       "      <td>36.5</td>\n",
       "      <td>NaN</td>\n",
       "      <td>180.0</td>\n",
       "      <td>0.0</td>\n",
       "      <td>NaN</td>\n",
       "      <td>NaN</td>\n",
       "    </tr>\n",
       "    <tr>\n",
       "      <th>1</th>\n",
       "      <td>2010-02-23</td>\n",
       "      <td>0.0</td>\n",
       "      <td>450.0</td>\n",
       "      <td>0.0</td>\n",
       "      <td>0.0</td>\n",
       "      <td>0.0</td>\n",
       "      <td>0.428571</td>\n",
       "      <td>37.628435</td>\n",
       "      <td>-77.379253</td>\n",
       "      <td>57.475</td>\n",
       "      <td>...</td>\n",
       "      <td>0.0775</td>\n",
       "      <td>42.75</td>\n",
       "      <td>50.75</td>\n",
       "      <td>34.75</td>\n",
       "      <td>40.5</td>\n",
       "      <td>NaN</td>\n",
       "      <td>155.0</td>\n",
       "      <td>0.0</td>\n",
       "      <td>NaN</td>\n",
       "      <td>NaN</td>\n",
       "    </tr>\n",
       "    <tr>\n",
       "      <th>2</th>\n",
       "      <td>2010-02-24</td>\n",
       "      <td>0.0</td>\n",
       "      <td>675.0</td>\n",
       "      <td>0.0</td>\n",
       "      <td>0.0</td>\n",
       "      <td>0.0</td>\n",
       "      <td>0.365714</td>\n",
       "      <td>37.628435</td>\n",
       "      <td>-77.379253</td>\n",
       "      <td>57.475</td>\n",
       "      <td>...</td>\n",
       "      <td>0.0825</td>\n",
       "      <td>38.25</td>\n",
       "      <td>44.25</td>\n",
       "      <td>32.25</td>\n",
       "      <td>35.0</td>\n",
       "      <td>NaN</td>\n",
       "      <td>10.0</td>\n",
       "      <td>0.0</td>\n",
       "      <td>NaN</td>\n",
       "      <td>NaN</td>\n",
       "    </tr>\n",
       "    <tr>\n",
       "      <th>3</th>\n",
       "      <td>2010-02-25</td>\n",
       "      <td>0.0</td>\n",
       "      <td>765.0</td>\n",
       "      <td>0.0</td>\n",
       "      <td>0.0</td>\n",
       "      <td>0.0</td>\n",
       "      <td>0.302857</td>\n",
       "      <td>37.628435</td>\n",
       "      <td>-77.379253</td>\n",
       "      <td>57.475</td>\n",
       "      <td>...</td>\n",
       "      <td>0.0500</td>\n",
       "      <td>38.00</td>\n",
       "      <td>44.25</td>\n",
       "      <td>31.75</td>\n",
       "      <td>36.0</td>\n",
       "      <td>NaN</td>\n",
       "      <td>305.0</td>\n",
       "      <td>0.0</td>\n",
       "      <td>NaN</td>\n",
       "      <td>NaN</td>\n",
       "    </tr>\n",
       "    <tr>\n",
       "      <th>4</th>\n",
       "      <td>2010-03-02</td>\n",
       "      <td>0.0</td>\n",
       "      <td>420.0</td>\n",
       "      <td>0.0</td>\n",
       "      <td>0.0</td>\n",
       "      <td>0.0</td>\n",
       "      <td>-1.068571</td>\n",
       "      <td>37.628435</td>\n",
       "      <td>-77.379253</td>\n",
       "      <td>57.475</td>\n",
       "      <td>...</td>\n",
       "      <td>0.1250</td>\n",
       "      <td>39.50</td>\n",
       "      <td>46.25</td>\n",
       "      <td>32.75</td>\n",
       "      <td>33.5</td>\n",
       "      <td>NaN</td>\n",
       "      <td>190.0</td>\n",
       "      <td>0.0</td>\n",
       "      <td>NaN</td>\n",
       "      <td>NaN</td>\n",
       "    </tr>\n",
       "  </tbody>\n",
       "</table>\n",
       "<p>5 rows × 23 columns</p>\n",
       "</div>"
      ],
      "text/plain": [
       "   Unnamed: 0  Tree   Mold  Grass  Ragweed  total-pol       SPI   LATITUDE  \\\n",
       "0  2010-02-22   0.0  630.0    0.0      0.0        0.0  0.491429  37.628435   \n",
       "1  2010-02-23   0.0  450.0    0.0      0.0        0.0  0.428571  37.628435   \n",
       "2  2010-02-24   0.0  675.0    0.0      0.0        0.0  0.365714  37.628435   \n",
       "3  2010-02-25   0.0  765.0    0.0      0.0        0.0  0.302857  37.628435   \n",
       "4  2010-03-02   0.0  420.0    0.0      0.0        0.0 -1.068571  37.628435   \n",
       "\n",
       "   LONGITUDE  ELEVATION  ...    PRCP   TAVG   TMAX   TMIN  TOBS  TSUN   WDF2  \\\n",
       "0 -77.379253     57.475  ...  0.1175  41.50  53.25  29.75  36.5   NaN  180.0   \n",
       "1 -77.379253     57.475  ...  0.0775  42.75  50.75  34.75  40.5   NaN  155.0   \n",
       "2 -77.379253     57.475  ...  0.0825  38.25  44.25  32.25  35.0   NaN   10.0   \n",
       "3 -77.379253     57.475  ...  0.0500  38.00  44.25  31.75  36.0   NaN  305.0   \n",
       "4 -77.379253     57.475  ...  0.1250  39.50  46.25  32.75  33.5   NaN  190.0   \n",
       "\n",
       "   WESD  WESF  WV03  \n",
       "0   0.0   NaN   NaN  \n",
       "1   0.0   NaN   NaN  \n",
       "2   0.0   NaN   NaN  \n",
       "3   0.0   NaN   NaN  \n",
       "4   0.0   NaN   NaN  \n",
       "\n",
       "[5 rows x 23 columns]"
      ]
     },
     "execution_count": 6,
     "metadata": {},
     "output_type": "execute_result"
    }
   ],
   "source": [
    "### Data cleaning and merging was accomplished in the Preparing Richmond Data notebook, so straight read of data here.\n",
    "df = pd.read_csv(\"pollen_wx_richmond.csv\")\n",
    "df.head()"
   ]
  },
  {
   "cell_type": "markdown",
   "metadata": {},
   "source": [
    "#### From the column definitions, \n",
    "We note that the parameters which are most likely associated with pollens have to do with the \"growth\" seasons\n",
    "from March through September, when the atmosphere is warming and their is more rain.  The overall wet/dry soil\n",
    "conditions are likely to contribute as well.  Therefore, we initially select the Standardized Precipitation Index,\n",
    "Precipitation, Average Temperature as the feature set used to predict Total Pollen, not including mold spores."
   ]
  },
  {
   "cell_type": "code",
   "execution_count": 7,
   "metadata": {},
   "outputs": [],
   "source": [
    "# Set features. This will also be used as your x values.\n",
    "df[\"allergens\"] = df['total-pol'] + df[\"Mold\"]\n",
    "selected_features = df[['SPI','PRCP','TAVG', 'allergens']].dropna()"
   ]
  },
  {
   "cell_type": "code",
   "execution_count": 8,
   "metadata": {},
   "outputs": [
    {
     "data": {
      "text/html": [
       "<div>\n",
       "<style scoped>\n",
       "    .dataframe tbody tr th:only-of-type {\n",
       "        vertical-align: middle;\n",
       "    }\n",
       "\n",
       "    .dataframe tbody tr th {\n",
       "        vertical-align: top;\n",
       "    }\n",
       "\n",
       "    .dataframe thead th {\n",
       "        text-align: right;\n",
       "    }\n",
       "</style>\n",
       "<table border=\"1\" class=\"dataframe\">\n",
       "  <thead>\n",
       "    <tr style=\"text-align: right;\">\n",
       "      <th></th>\n",
       "      <th>SPI</th>\n",
       "      <th>PRCP</th>\n",
       "      <th>TAVG</th>\n",
       "      <th>allergens</th>\n",
       "    </tr>\n",
       "  </thead>\n",
       "  <tbody>\n",
       "    <tr>\n",
       "      <th>1056</th>\n",
       "      <td>0.472857</td>\n",
       "      <td>0.000000</td>\n",
       "      <td>41.666667</td>\n",
       "      <td>940.0</td>\n",
       "    </tr>\n",
       "    <tr>\n",
       "      <th>1057</th>\n",
       "      <td>0.515714</td>\n",
       "      <td>0.673333</td>\n",
       "      <td>43.666667</td>\n",
       "      <td>990.0</td>\n",
       "    </tr>\n",
       "    <tr>\n",
       "      <th>1058</th>\n",
       "      <td>0.501429</td>\n",
       "      <td>0.000000</td>\n",
       "      <td>41.500000</td>\n",
       "      <td>1530.0</td>\n",
       "    </tr>\n",
       "    <tr>\n",
       "      <th>1059</th>\n",
       "      <td>0.487143</td>\n",
       "      <td>0.000000</td>\n",
       "      <td>42.833333</td>\n",
       "      <td>1020.0</td>\n",
       "    </tr>\n",
       "    <tr>\n",
       "      <th>1060</th>\n",
       "      <td>0.472857</td>\n",
       "      <td>0.006667</td>\n",
       "      <td>52.000000</td>\n",
       "      <td>1215.0</td>\n",
       "    </tr>\n",
       "  </tbody>\n",
       "</table>\n",
       "</div>"
      ],
      "text/plain": [
       "           SPI      PRCP       TAVG  allergens\n",
       "1056  0.472857  0.000000  41.666667      940.0\n",
       "1057  0.515714  0.673333  43.666667      990.0\n",
       "1058  0.501429  0.000000  41.500000     1530.0\n",
       "1059  0.487143  0.000000  42.833333     1020.0\n",
       "1060  0.472857  0.006667  52.000000     1215.0"
      ]
     },
     "execution_count": 8,
     "metadata": {},
     "output_type": "execute_result"
    }
   ],
   "source": [
    "selected_features.tail()"
   ]
  },
  {
   "cell_type": "markdown",
   "metadata": {},
   "source": [
    "#### Create a Train Test Split\n",
    "Note there are 1060 records in the data set from the cell above.\n",
    "Use `total-pol` for the y (\"target\") values"
   ]
  },
  {
   "cell_type": "code",
   "execution_count": 9,
   "metadata": {},
   "outputs": [],
   "source": [
    "from sklearn.model_selection import train_test_split\n",
    "from sklearn.preprocessing import LabelEncoder, MinMaxScaler\n",
    "from tensorflow.keras.utils import to_categorical"
   ]
  },
  {
   "cell_type": "code",
   "execution_count": 10,
   "metadata": {},
   "outputs": [
    {
     "name": "stdout",
     "output_type": "stream",
     "text": [
      "0        630.0\n",
      "1        450.0\n",
      "2        675.0\n",
      "3        765.0\n",
      "4        420.0\n",
      "         ...  \n",
      "1056     940.0\n",
      "1057     990.0\n",
      "1058    1530.0\n",
      "1059    1020.0\n",
      "1060    1215.0\n",
      "Name: allergens, Length: 1060, dtype: float64\n"
     ]
    }
   ],
   "source": [
    "#assign x and y values\n",
    "X = selected_features.drop(\"allergens\", axis=1)\n",
    "\n",
    "feature_names=X.columns\n",
    "\n",
    "y = selected_features[\"allergens\"]\n",
    "\n",
    "print(y)\n",
    "\n",
    "#split training and testing data\n",
    "X_train, X_test, y_train, y_test = train_test_split(X, y, random_state=63)"
   ]
  },
  {
   "cell_type": "code",
   "execution_count": 11,
   "metadata": {},
   "outputs": [
    {
     "data": {
      "text/html": [
       "<div>\n",
       "<style scoped>\n",
       "    .dataframe tbody tr th:only-of-type {\n",
       "        vertical-align: middle;\n",
       "    }\n",
       "\n",
       "    .dataframe tbody tr th {\n",
       "        vertical-align: top;\n",
       "    }\n",
       "\n",
       "    .dataframe thead th {\n",
       "        text-align: right;\n",
       "    }\n",
       "</style>\n",
       "<table border=\"1\" class=\"dataframe\">\n",
       "  <thead>\n",
       "    <tr style=\"text-align: right;\">\n",
       "      <th></th>\n",
       "      <th>SPI</th>\n",
       "      <th>PRCP</th>\n",
       "      <th>TAVG</th>\n",
       "    </tr>\n",
       "  </thead>\n",
       "  <tbody>\n",
       "    <tr>\n",
       "      <th>334</th>\n",
       "      <td>-0.520000</td>\n",
       "      <td>0.0</td>\n",
       "      <td>54.500</td>\n",
       "    </tr>\n",
       "    <tr>\n",
       "      <th>530</th>\n",
       "      <td>-0.250000</td>\n",
       "      <td>0.0</td>\n",
       "      <td>74.875</td>\n",
       "    </tr>\n",
       "    <tr>\n",
       "      <th>288</th>\n",
       "      <td>-1.492857</td>\n",
       "      <td>0.0</td>\n",
       "      <td>77.625</td>\n",
       "    </tr>\n",
       "    <tr>\n",
       "      <th>338</th>\n",
       "      <td>-0.548571</td>\n",
       "      <td>0.0</td>\n",
       "      <td>46.500</td>\n",
       "    </tr>\n",
       "    <tr>\n",
       "      <th>139</th>\n",
       "      <td>-0.930000</td>\n",
       "      <td>0.0</td>\n",
       "      <td>67.125</td>\n",
       "    </tr>\n",
       "  </tbody>\n",
       "</table>\n",
       "</div>"
      ],
      "text/plain": [
       "          SPI  PRCP    TAVG\n",
       "334 -0.520000   0.0  54.500\n",
       "530 -0.250000   0.0  74.875\n",
       "288 -1.492857   0.0  77.625\n",
       "338 -0.548571   0.0  46.500\n",
       "139 -0.930000   0.0  67.125"
      ]
     },
     "execution_count": 11,
     "metadata": {},
     "output_type": "execute_result"
    }
   ],
   "source": [
    "X_train.tail()"
   ]
  },
  {
   "cell_type": "markdown",
   "metadata": {},
   "source": [
    "### Pre-processing\n",
    "\n",
    "Scale the data using the MinMaxScaler and perform some feature selection"
   ]
  },
  {
   "cell_type": "code",
   "execution_count": 12,
   "metadata": {},
   "outputs": [],
   "source": [
    "### Scale your data, in necessary6\n",
    "from sklearn.preprocessing import StandardScaler\n",
    "\n",
    "X_scaler = MinMaxScaler().fit(X_train)\n",
    "X_train_scaled = X_scaler.transform(X_train)\n",
    "X_test_scaled = X_scaler.transform(X_test)"
   ]
  },
  {
   "cell_type": "code",
   "execution_count": 14,
   "metadata": {},
   "outputs": [
    {
     "name": "stdout",
     "output_type": "stream",
     "text": [
      "Training Score: 0.17692020562137623\n",
      "Testing Score: 0.22972649412704194\n"
     ]
    }
   ],
   "source": [
    "### Multiple regression model since there are only 3 features\n",
    "\n",
    "### BEGIN SOLUTION\n",
    "from sklearn.linear_model import LinearRegression\n",
    "model = LinearRegression()\n",
    "### END SOLUTION\n",
    "\n",
    " # Fit the model to the training data and calculate the scores for the training and testing data\n",
    "\n",
    "### BEGIN SOLUTION\n",
    "model.fit(X_train, y_train)\n",
    "training_score = model.score(X_train, y_train)\n",
    "testing_score = model.score(X_test, y_test)\n",
    "\n",
    "### END SOLUTION \n",
    "\n",
    "print(f\"Training Score: {training_score}\")\n",
    "print(f\"Testing Score: {testing_score}\")\n"
   ]
  },
  {
   "cell_type": "code",
   "execution_count": 24,
   "metadata": {},
   "outputs": [
    {
     "data": {
      "image/png": "[encoded data removed]",
      "text/plain": [
       "<Figure size 432x288 with 1 Axes>"
      ]
     },
     "metadata": {
      "needs_background": "light"
     },
     "output_type": "display_data"
    }
   ],
   "source": [
    "predictions = model.predict(X_test)\n",
    "predictions = np.array([0 if p < 0 else p for p in predictions])\n",
    "# Plot Residuals\n",
    "plt.xlabel(\"predictions\")\n",
    "plt.ylabel(\"y_test\")\n",
    "plt.scatter(predictions, y_test)\n",
    "plt.hlines(y=0, xmin=predictions.min(), xmax=predictions.max())\n",
    "plt.show()"
   ]
  },
  {
   "cell_type": "code",
   "execution_count": 18,
   "metadata": {},
   "outputs": [
    {
     "name": "stdout",
     "output_type": "stream",
     "text": [
      "Mean Squared Error (MSE): 5705657.256145541\n",
      "R-squared (R2 ): 0.22972981720914487\n"
     ]
    }
   ],
   "source": [
    "from sklearn.metrics import mean_squared_error, r2_score\n",
    "\n",
    "# Score the prediction with mse and r2\n",
    "mse = mean_squared_error(y_test, predictions)\n",
    "r2 = r2_score(y_test, predictions)\n",
    "\n",
    "print(f\"Mean Squared Error (MSE): {mse}\")\n",
    "print(f\"R-squared (R2 ): {r2}\")"
   ]
  },
  {
   "cell_type": "code",
   "execution_count": 19,
   "metadata": {
    "scrolled": true
   },
   "outputs": [],
   "source": [
    "### Random tree classification\n",
    "\n",
    "# from sklearn.ensemble import RandomForestClassifier\n",
    "# from sklearn import tree\n",
    "\n",
    "# rf = RandomForestClassifier(n_estimators=20, max_depth=2, random_state=63)\n",
    "# rf = rf.fit(X_train, y_train)\n",
    "# print(f\"Training Data Score: {rf.score(X_train, y_train)}\")\n",
    "# print(f\"Testing data score: {rf.score(X_test_scaled,y_test)}\")"
   ]
  },
  {
   "cell_type": "code",
   "execution_count": 20,
   "metadata": {},
   "outputs": [],
   "source": [
    "# sorted(zip(rf.feature_importances_, feature_names), reverse=True)"
   ]
  },
  {
   "cell_type": "markdown",
   "metadata": {},
   "source": [
    "### Hyperparameter Tuning\n",
    "\n",
    "Use `GridSearchCV` to tune the model's parameters"
   ]
  },
  {
   "cell_type": "code",
   "execution_count": 21,
   "metadata": {},
   "outputs": [
    {
     "data": {
      "text/plain": [
       "dict_keys(['copy_X', 'fit_intercept', 'n_jobs', 'normalize'])"
      ]
     },
     "execution_count": 21,
     "metadata": {},
     "output_type": "execute_result"
    }
   ],
   "source": [
    "model.get_params().keys()"
   ]
  },
  {
   "cell_type": "code",
   "execution_count": 25,
   "metadata": {},
   "outputs": [],
   "source": [
    "### Create the GridSearchCV model\n",
    "# from sklearn.model_selection import GridSearchCV\n",
    "# param_grid = {'max_depth': [2, 4, 6]}\n",
    "# grid = GridSearchCV(rf, param_grid, verbose=3)"
   ]
  },
  {
   "cell_type": "code",
   "execution_count": 26,
   "metadata": {},
   "outputs": [],
   "source": [
    "# Train the model with GridSearch\n",
    "# grid.fit(X_train_scaled, y_train)"
   ]
  },
  {
   "cell_type": "code",
   "execution_count": 28,
   "metadata": {},
   "outputs": [],
   "source": [
    "# print(grid.best_params_)\n",
    "# print(grid.best_score_)"
   ]
  },
  {
   "cell_type": "code",
   "execution_count": 30,
   "metadata": {},
   "outputs": [],
   "source": [
    "# # Calculate classification report\n",
    "# from sklearn.metrics import classification_report\n",
    "# predictions = model.predict(X_test_scaled)\n",
    "# print(classification_report(y_test, predictions))"
   ]
  },
  {
   "cell_type": "markdown",
   "metadata": {},
   "source": [
    "# Save the Model"
   ]
  },
  {
   "cell_type": "code",
   "execution_count": 31,
   "metadata": {},
   "outputs": [
    {
     "data": {
      "text/plain": [
       "['pollen_multi_SPI_Colton.sav']"
      ]
     },
     "execution_count": 31,
     "metadata": {},
     "output_type": "execute_result"
    }
   ],
   "source": [
    "# save your model by updating \"your_name\" with your name\n",
    "# and \"your_model\" with your model variable\n",
    "# be sure to turn this in to BCS\n",
    "# if joblib fails to import, try running the command to install in terminal/git-bash\n",
    "import joblib\n",
    "filename = 'pollen_multi_SPI_Colton.sav'\n",
    "joblib.dump(model, filename)"
   ]
  }
 ],
 "metadata": {
  "kernel_info": {
   "name": "dev"
  },
  "kernelspec": {
   "display_name": "Python 3",
   "language": "python",
   "name": "python3"
  },
  "language_info": {
   "codemirror_mode": {
    "name": "ipython",
    "version": 3
   },
   "file_extension": ".py",
   "mimetype": "text/x-python",
   "name": "python",
   "nbconvert_exporter": "python",
   "pygments_lexer": "ipython3",
   "version": "3.6.9"
  },
  "nteract": {
   "version": "0.12.3"
  }
 },
 "nbformat": 4,
 "nbformat_minor": 2
}
