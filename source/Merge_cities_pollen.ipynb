{
 "cells": [
  {
   "cell_type": "markdown",
   "metadata": {},
   "source": [
    "### This notebook merges all of the city and pollen data into one file"
   ]
  },
  {
   "cell_type": "code",
   "execution_count": 1,
   "metadata": {},
   "outputs": [],
   "source": [
    "import numpy as np\n",
    "import matplotlib.pyplot as plt\n",
    "import datetime\n",
    "import pandas as pd\n",
    "from pandas.plotting import register_matplotlib_converters\n",
    "register_matplotlib_converters()\n",
    "%matplotlib inline"
   ]
  },
  {
   "cell_type": "markdown",
   "metadata": {},
   "source": [
    "### Read in each of the city files and merge one by one"
   ]
  },
  {
   "cell_type": "code",
   "execution_count": 2,
   "metadata": {},
   "outputs": [
    {
     "data": {
      "text/plain": [
       "Index(['Tree', 'Mold', 'Grass', 'Ragweed', 'total-pol', 'LATITUDE',\n",
       "       'LONGITUDE', 'ELEVATION', 'AWND', 'DAPR', 'MDPR', 'PRCP', 'TAVG',\n",
       "       'TMAX', 'TMIN', 'TOBS', 'TSUN', 'WDF2', 'WESD', 'WESF', 'WV03'],\n",
       "      dtype='object')"
      ]
     },
     "execution_count": 2,
     "metadata": {},
     "output_type": "execute_result"
    }
   ],
   "source": [
    "# Import Pollen csv file\n",
    "df1 = pd.read_csv('pollen_wx_richmond_nospi.csv', index_col=[0])\n",
    "lats1 = df1.LATITUDE\n",
    "lons1 = df1.LONGITUDE\n",
    "df1.columns"
   ]
  },
  {
   "cell_type": "code",
   "execution_count": 4,
   "metadata": {},
   "outputs": [
    {
     "name": "stdout",
     "output_type": "stream",
     "text": [
      "             Tree    Mold  Grass  Ragweed  total-pol   LATITUDE  LONGITUDE  \\\n",
      "1998-02-20   46.0   180.0    0.0      0.0       46.0  37.656523 -77.413727   \n",
      "1998-02-24    5.0   450.0    0.0      0.0        5.0  37.656523 -77.413727   \n",
      "1998-02-25   18.0   210.0    0.0      0.0       18.0  37.656523 -77.413727   \n",
      "1998-02-26  124.0   960.0    0.0      0.0      124.0  37.656523 -77.413727   \n",
      "1998-02-27  504.0  1260.0    0.0      0.0      504.0  37.656523 -77.413727   \n",
      "\n",
      "            ELEVATION   AWND  DAPR  ...   PRCP       TAVG       TMAX  \\\n",
      "1998-02-20  59.866667   4.70   NaN  ...  0.105  45.500000  55.333333   \n",
      "1998-02-24  59.866667  17.00   NaN  ...  0.160  45.000000  53.333333   \n",
      "1998-02-25  59.866667  13.65   NaN  ...  0.000  50.666667  62.333333   \n",
      "1998-02-26  59.866667   3.80   NaN  ...  0.000  48.000000  64.000000   \n",
      "1998-02-27  59.866667   4.25   NaN  ...  0.000  49.000000  64.000000   \n",
      "\n",
      "                 TMIN  TOBS  TSUN   WDF2  WESD  WESF  WV03  \n",
      "1998-02-20  35.666667  50.0   NaN  280.0   0.0   NaN   NaN  \n",
      "1998-02-24  36.666667  45.0   NaN  320.0   0.0   NaN   NaN  \n",
      "1998-02-25  39.000000  45.0   NaN  340.0   0.0   NaN   NaN  \n",
      "1998-02-26  32.000000  53.0   NaN   10.0   0.0   NaN   NaN  \n",
      "1998-02-27  34.000000  55.0   NaN  220.0   0.0   NaN   NaN  \n",
      "\n",
      "[5 rows x 21 columns]\n"
     ]
    }
   ],
   "source": [
    "print(f\"{df1.head()}\")"
   ]
  },
  {
   "cell_type": "code",
   "execution_count": 5,
   "metadata": {},
   "outputs": [
    {
     "data": {
      "text/plain": [
       "Index(['LATITUDE', 'LONGITUDE', 'ELEVATION', 'AWND', 'DAPR', 'MDPR', 'PRCP',\n",
       "       'TAVG', 'TMAX', 'TMIN', 'TOBS'],\n",
       "      dtype='object')"
      ]
     },
     "execution_count": 5,
     "metadata": {},
     "output_type": "execute_result"
    }
   ],
   "source": [
    "df2 = pd.read_csv('pollen_wx_Cville.csv', index_col=[0])\n",
    "df2 = df2.drop(columns=['Tree', 'Mold','Grass','Ragweed','total-pol'])\n",
    "lats2= df2.LATITUDE\n",
    "lons2 = df2.LONGITUDE\n",
    "df2.columns"
   ]
  },
  {
   "cell_type": "code",
   "execution_count": 6,
   "metadata": {},
   "outputs": [
    {
     "name": "stdout",
     "output_type": "stream",
     "text": [
      "            LATITUDE  LONGITUDE  ELEVATION  AWND  DAPR  MDPR   PRCP   TAVG  \\\n",
      "1998-02-20    38.022    -78.486      247.5   NaN   NaN   NaN  0.040  49.00   \n",
      "1998-02-24    38.022    -78.486      247.5   NaN   NaN   NaN  0.295  42.50   \n",
      "1998-02-25    38.022    -78.486      247.5   NaN   NaN   NaN  0.000  48.75   \n",
      "1998-02-26    38.022    -78.486      247.5   NaN   NaN   NaN  0.000  50.75   \n",
      "1998-02-27    38.022    -78.486      247.5   NaN   NaN   NaN  0.000  51.50   \n",
      "\n",
      "            TMAX  TMIN  TOBS  \n",
      "1998-02-20  60.0  38.0  41.0  \n",
      "1998-02-24  48.5  36.5  44.0  \n",
      "1998-02-25  57.0  40.5  45.5  \n",
      "1998-02-26  62.5  39.0  44.5  \n",
      "1998-02-27  62.5  40.5  43.5  \n"
     ]
    }
   ],
   "source": [
    "print(f\"{df2.head()}\")"
   ]
  },
  {
   "cell_type": "markdown",
   "metadata": {},
   "source": [
    "### Merge these two files on left index"
   ]
  },
  {
   "cell_type": "code",
   "execution_count": 7,
   "metadata": {},
   "outputs": [
    {
     "data": {
      "text/html": [
       "<div>\n",
       "<style scoped>\n",
       "    .dataframe tbody tr th:only-of-type {\n",
       "        vertical-align: middle;\n",
       "    }\n",
       "\n",
       "    .dataframe tbody tr th {\n",
       "        vertical-align: top;\n",
       "    }\n",
       "\n",
       "    .dataframe thead th {\n",
       "        text-align: right;\n",
       "    }\n",
       "</style>\n",
       "<table border=\"1\" class=\"dataframe\">\n",
       "  <thead>\n",
       "    <tr style=\"text-align: right;\">\n",
       "      <th></th>\n",
       "      <th>Tree</th>\n",
       "      <th>Mold</th>\n",
       "      <th>Grass</th>\n",
       "      <th>Ragweed</th>\n",
       "      <th>total-pol</th>\n",
       "      <th>LATITUDE_R</th>\n",
       "      <th>LONGITUDE_R</th>\n",
       "      <th>ELEVATION_R</th>\n",
       "      <th>AWND_R</th>\n",
       "      <th>DAPR_R</th>\n",
       "      <th>...</th>\n",
       "      <th>LONGITUDE_C</th>\n",
       "      <th>ELEVATION_C</th>\n",
       "      <th>AWND_C</th>\n",
       "      <th>DAPR_C</th>\n",
       "      <th>MDPR_C</th>\n",
       "      <th>PRCP_C</th>\n",
       "      <th>TAVG_C</th>\n",
       "      <th>TMAX_C</th>\n",
       "      <th>TMIN_C</th>\n",
       "      <th>TOBS_C</th>\n",
       "    </tr>\n",
       "  </thead>\n",
       "  <tbody>\n",
       "    <tr>\n",
       "      <th>1998-02-20</th>\n",
       "      <td>46.0</td>\n",
       "      <td>180.0</td>\n",
       "      <td>0.0</td>\n",
       "      <td>0.0</td>\n",
       "      <td>46.0</td>\n",
       "      <td>37.656523</td>\n",
       "      <td>-77.413727</td>\n",
       "      <td>59.866667</td>\n",
       "      <td>4.70</td>\n",
       "      <td>NaN</td>\n",
       "      <td>...</td>\n",
       "      <td>-78.486</td>\n",
       "      <td>247.5</td>\n",
       "      <td>NaN</td>\n",
       "      <td>NaN</td>\n",
       "      <td>NaN</td>\n",
       "      <td>0.040</td>\n",
       "      <td>49.00</td>\n",
       "      <td>60.0</td>\n",
       "      <td>38.0</td>\n",
       "      <td>41.0</td>\n",
       "    </tr>\n",
       "    <tr>\n",
       "      <th>1998-02-24</th>\n",
       "      <td>5.0</td>\n",
       "      <td>450.0</td>\n",
       "      <td>0.0</td>\n",
       "      <td>0.0</td>\n",
       "      <td>5.0</td>\n",
       "      <td>37.656523</td>\n",
       "      <td>-77.413727</td>\n",
       "      <td>59.866667</td>\n",
       "      <td>17.00</td>\n",
       "      <td>NaN</td>\n",
       "      <td>...</td>\n",
       "      <td>-78.486</td>\n",
       "      <td>247.5</td>\n",
       "      <td>NaN</td>\n",
       "      <td>NaN</td>\n",
       "      <td>NaN</td>\n",
       "      <td>0.295</td>\n",
       "      <td>42.50</td>\n",
       "      <td>48.5</td>\n",
       "      <td>36.5</td>\n",
       "      <td>44.0</td>\n",
       "    </tr>\n",
       "    <tr>\n",
       "      <th>1998-02-25</th>\n",
       "      <td>18.0</td>\n",
       "      <td>210.0</td>\n",
       "      <td>0.0</td>\n",
       "      <td>0.0</td>\n",
       "      <td>18.0</td>\n",
       "      <td>37.656523</td>\n",
       "      <td>-77.413727</td>\n",
       "      <td>59.866667</td>\n",
       "      <td>13.65</td>\n",
       "      <td>NaN</td>\n",
       "      <td>...</td>\n",
       "      <td>-78.486</td>\n",
       "      <td>247.5</td>\n",
       "      <td>NaN</td>\n",
       "      <td>NaN</td>\n",
       "      <td>NaN</td>\n",
       "      <td>0.000</td>\n",
       "      <td>48.75</td>\n",
       "      <td>57.0</td>\n",
       "      <td>40.5</td>\n",
       "      <td>45.5</td>\n",
       "    </tr>\n",
       "    <tr>\n",
       "      <th>1998-02-26</th>\n",
       "      <td>124.0</td>\n",
       "      <td>960.0</td>\n",
       "      <td>0.0</td>\n",
       "      <td>0.0</td>\n",
       "      <td>124.0</td>\n",
       "      <td>37.656523</td>\n",
       "      <td>-77.413727</td>\n",
       "      <td>59.866667</td>\n",
       "      <td>3.80</td>\n",
       "      <td>NaN</td>\n",
       "      <td>...</td>\n",
       "      <td>-78.486</td>\n",
       "      <td>247.5</td>\n",
       "      <td>NaN</td>\n",
       "      <td>NaN</td>\n",
       "      <td>NaN</td>\n",
       "      <td>0.000</td>\n",
       "      <td>50.75</td>\n",
       "      <td>62.5</td>\n",
       "      <td>39.0</td>\n",
       "      <td>44.5</td>\n",
       "    </tr>\n",
       "    <tr>\n",
       "      <th>1998-02-27</th>\n",
       "      <td>504.0</td>\n",
       "      <td>1260.0</td>\n",
       "      <td>0.0</td>\n",
       "      <td>0.0</td>\n",
       "      <td>504.0</td>\n",
       "      <td>37.656523</td>\n",
       "      <td>-77.413727</td>\n",
       "      <td>59.866667</td>\n",
       "      <td>4.25</td>\n",
       "      <td>NaN</td>\n",
       "      <td>...</td>\n",
       "      <td>-78.486</td>\n",
       "      <td>247.5</td>\n",
       "      <td>NaN</td>\n",
       "      <td>NaN</td>\n",
       "      <td>NaN</td>\n",
       "      <td>0.000</td>\n",
       "      <td>51.50</td>\n",
       "      <td>62.5</td>\n",
       "      <td>40.5</td>\n",
       "      <td>43.5</td>\n",
       "    </tr>\n",
       "  </tbody>\n",
       "</table>\n",
       "<p>5 rows × 32 columns</p>\n",
       "</div>"
      ],
      "text/plain": [
       "             Tree    Mold  Grass  Ragweed  total-pol  LATITUDE_R  LONGITUDE_R  \\\n",
       "1998-02-20   46.0   180.0    0.0      0.0       46.0   37.656523   -77.413727   \n",
       "1998-02-24    5.0   450.0    0.0      0.0        5.0   37.656523   -77.413727   \n",
       "1998-02-25   18.0   210.0    0.0      0.0       18.0   37.656523   -77.413727   \n",
       "1998-02-26  124.0   960.0    0.0      0.0      124.0   37.656523   -77.413727   \n",
       "1998-02-27  504.0  1260.0    0.0      0.0      504.0   37.656523   -77.413727   \n",
       "\n",
       "            ELEVATION_R  AWND_R  DAPR_R  ...  LONGITUDE_C  ELEVATION_C  \\\n",
       "1998-02-20    59.866667    4.70     NaN  ...      -78.486        247.5   \n",
       "1998-02-24    59.866667   17.00     NaN  ...      -78.486        247.5   \n",
       "1998-02-25    59.866667   13.65     NaN  ...      -78.486        247.5   \n",
       "1998-02-26    59.866667    3.80     NaN  ...      -78.486        247.5   \n",
       "1998-02-27    59.866667    4.25     NaN  ...      -78.486        247.5   \n",
       "\n",
       "            AWND_C  DAPR_C  MDPR_C  PRCP_C  TAVG_C  TMAX_C  TMIN_C  TOBS_C  \n",
       "1998-02-20     NaN     NaN     NaN   0.040   49.00    60.0    38.0    41.0  \n",
       "1998-02-24     NaN     NaN     NaN   0.295   42.50    48.5    36.5    44.0  \n",
       "1998-02-25     NaN     NaN     NaN   0.000   48.75    57.0    40.5    45.5  \n",
       "1998-02-26     NaN     NaN     NaN   0.000   50.75    62.5    39.0    44.5  \n",
       "1998-02-27     NaN     NaN     NaN   0.000   51.50    62.5    40.5    43.5  \n",
       "\n",
       "[5 rows x 32 columns]"
      ]
     },
     "execution_count": 7,
     "metadata": {},
     "output_type": "execute_result"
    }
   ],
   "source": [
    "df3 = pd.merge(df1, df2, left_index=True, right_index=True, how='inner', suffixes=('_R', '_C'))\n",
    "df3.head()\n",
    "# print(len(df3))"
   ]
  },
  {
   "cell_type": "code",
   "execution_count": 8,
   "metadata": {},
   "outputs": [
    {
     "data": {
      "text/plain": [
       "Index(['LATITUDE', 'LONGITUDE', 'ELEVATION', 'AWND', 'DAPR', 'MDPR', 'PRCP',\n",
       "       'TAVG', 'TMAX', 'TMIN', 'TOBS'],\n",
       "      dtype='object')"
      ]
     },
     "execution_count": 8,
     "metadata": {},
     "output_type": "execute_result"
    }
   ],
   "source": [
    "df4 = pd.read_csv('pollen_wx_Danville.csv', index_col=[0])\n",
    "df4 = df4.drop(columns=['Tree', 'Mold','Grass','Ragweed','total-pol'])\n",
    "lats4 = df4.LATITUDE\n",
    "lons4 = df4.LONGITUDE\n",
    "df4.columns"
   ]
  },
  {
   "cell_type": "code",
   "execution_count": 9,
   "metadata": {},
   "outputs": [
    {
     "data": {
      "text/plain": [
       "Index(['LATITUDE', 'LONGITUDE', 'ELEVATION', 'AWND', 'DAPR', 'MDPR', 'PRCP',\n",
       "       'TAVG', 'TMAX', 'TMIN', 'TOBS'],\n",
       "      dtype='object')"
      ]
     },
     "execution_count": 9,
     "metadata": {},
     "output_type": "execute_result"
    }
   ],
   "source": [
    "df5 = pd.read_csv('pollen_wx_Hampton.csv', index_col=[0])\n",
    "df5 = df5.drop(columns=['Tree', 'Mold','Grass','Ragweed','total-pol'])\n",
    "lats5= df5.LATITUDE\n",
    "lons5 = df5.LONGITUDE\n",
    "df5.columns"
   ]
  },
  {
   "cell_type": "code",
   "execution_count": 10,
   "metadata": {},
   "outputs": [
    {
     "data": {
      "text/plain": [
       "Index(['LATITUDE_D', 'LONGITUDE_D', 'ELEVATION_D', 'AWND_D', 'DAPR_D',\n",
       "       'MDPR_D', 'PRCP_D', 'TAVG_D', 'TMAX_D', 'TMIN_D', 'TOBS_D',\n",
       "       'LATITUDE_H', 'LONGITUDE_H', 'ELEVATION_H', 'AWND_H', 'DAPR_H',\n",
       "       'MDPR_H', 'PRCP_H', 'TAVG_H', 'TMAX_H', 'TMIN_H', 'TOBS_H'],\n",
       "      dtype='object')"
      ]
     },
     "execution_count": 10,
     "metadata": {},
     "output_type": "execute_result"
    }
   ],
   "source": [
    "df6 = pd.merge(df4, df5, left_index=True, right_index=True, how='inner', suffixes=('_D','_H') )\n",
    "df6.columns\n",
    "# print(len(df5))"
   ]
  },
  {
   "cell_type": "code",
   "execution_count": 11,
   "metadata": {},
   "outputs": [
    {
     "name": "stdout",
     "output_type": "stream",
     "text": [
      "3377\n"
     ]
    }
   ],
   "source": [
    "print(len(df6))"
   ]
  },
  {
   "cell_type": "code",
   "execution_count": 12,
   "metadata": {
    "scrolled": true
   },
   "outputs": [
    {
     "data": {
      "text/plain": [
       "Index(['Tree', 'Mold', 'Grass', 'Ragweed', 'total-pol', 'LATITUDE_R',\n",
       "       'LONGITUDE_R', 'ELEVATION_R', 'AWND_R', 'DAPR_R', 'MDPR_R', 'PRCP_R',\n",
       "       'TAVG_R', 'TMAX_R', 'TMIN_R', 'TOBS_R', 'TSUN', 'WDF2', 'WESD', 'WESF',\n",
       "       'WV03', 'LATITUDE_C', 'LONGITUDE_C', 'ELEVATION_C', 'AWND_C', 'DAPR_C',\n",
       "       'MDPR_C', 'PRCP_C', 'TAVG_C', 'TMAX_C', 'TMIN_C', 'TOBS_C',\n",
       "       'LATITUDE_D', 'LONGITUDE_D', 'ELEVATION_D', 'AWND_D', 'DAPR_D',\n",
       "       'MDPR_D', 'PRCP_D', 'TAVG_D', 'TMAX_D', 'TMIN_D', 'TOBS_D',\n",
       "       'LATITUDE_H', 'LONGITUDE_H', 'ELEVATION_H', 'AWND_H', 'DAPR_H',\n",
       "       'MDPR_H', 'PRCP_H', 'TAVG_H', 'TMAX_H', 'TMIN_H', 'TOBS_H'],\n",
       "      dtype='object')"
      ]
     },
     "execution_count": 12,
     "metadata": {},
     "output_type": "execute_result"
    }
   ],
   "source": [
    "df7 = pd.merge(df3, df6, left_index=True, right_index=True, how='inner' , suffixes=('RC','_DH'))\n",
    "df7.columns"
   ]
  },
  {
   "cell_type": "code",
   "execution_count": 13,
   "metadata": {},
   "outputs": [
    {
     "name": "stdout",
     "output_type": "stream",
     "text": [
      "3389\n"
     ]
    }
   ],
   "source": [
    "print(len(df7))"
   ]
  },
  {
   "cell_type": "code",
   "execution_count": 14,
   "metadata": {},
   "outputs": [
    {
     "data": {
      "text/html": [
       "<div>\n",
       "<style scoped>\n",
       "    .dataframe tbody tr th:only-of-type {\n",
       "        vertical-align: middle;\n",
       "    }\n",
       "\n",
       "    .dataframe tbody tr th {\n",
       "        vertical-align: top;\n",
       "    }\n",
       "\n",
       "    .dataframe thead th {\n",
       "        text-align: right;\n",
       "    }\n",
       "</style>\n",
       "<table border=\"1\" class=\"dataframe\">\n",
       "  <thead>\n",
       "    <tr style=\"text-align: right;\">\n",
       "      <th></th>\n",
       "      <th>lat</th>\n",
       "      <th>lon</th>\n",
       "    </tr>\n",
       "  </thead>\n",
       "  <tbody>\n",
       "    <tr>\n",
       "      <th>0</th>\n",
       "      <td>37.656523</td>\n",
       "      <td>-77.413727</td>\n",
       "    </tr>\n",
       "    <tr>\n",
       "      <th>1</th>\n",
       "      <td>37.630755</td>\n",
       "      <td>-77.403370</td>\n",
       "    </tr>\n",
       "    <tr>\n",
       "      <th>2</th>\n",
       "      <td>37.628435</td>\n",
       "      <td>-77.379253</td>\n",
       "    </tr>\n",
       "    <tr>\n",
       "      <th>3</th>\n",
       "      <td>37.601893</td>\n",
       "      <td>-77.360857</td>\n",
       "    </tr>\n",
       "    <tr>\n",
       "      <th>4</th>\n",
       "      <td>37.587913</td>\n",
       "      <td>-77.344570</td>\n",
       "    </tr>\n",
       "    <tr>\n",
       "      <th>5</th>\n",
       "      <td>37.609785</td>\n",
       "      <td>-77.378940</td>\n",
       "    </tr>\n",
       "    <tr>\n",
       "      <th>6</th>\n",
       "      <td>38.022000</td>\n",
       "      <td>-78.486000</td>\n",
       "    </tr>\n",
       "    <tr>\n",
       "      <th>7</th>\n",
       "      <td>38.032900</td>\n",
       "      <td>-78.522600</td>\n",
       "    </tr>\n",
       "    <tr>\n",
       "      <th>8</th>\n",
       "      <td>38.060467</td>\n",
       "      <td>-78.475733</td>\n",
       "    </tr>\n",
       "    <tr>\n",
       "      <th>9</th>\n",
       "      <td>38.074250</td>\n",
       "      <td>-78.452300</td>\n",
       "    </tr>\n",
       "    <tr>\n",
       "      <th>10</th>\n",
       "      <td>38.048667</td>\n",
       "      <td>-78.456733</td>\n",
       "    </tr>\n",
       "    <tr>\n",
       "      <th>11</th>\n",
       "      <td>38.044725</td>\n",
       "      <td>-78.473200</td>\n",
       "    </tr>\n",
       "    <tr>\n",
       "      <th>12</th>\n",
       "      <td>38.013833</td>\n",
       "      <td>-78.479200</td>\n",
       "    </tr>\n",
       "    <tr>\n",
       "      <th>13</th>\n",
       "      <td>38.053938</td>\n",
       "      <td>-78.496434</td>\n",
       "    </tr>\n",
       "    <tr>\n",
       "      <th>14</th>\n",
       "      <td>38.064647</td>\n",
       "      <td>-78.508192</td>\n",
       "    </tr>\n",
       "    <tr>\n",
       "      <th>15</th>\n",
       "      <td>38.068047</td>\n",
       "      <td>-78.504143</td>\n",
       "    </tr>\n",
       "    <tr>\n",
       "      <th>16</th>\n",
       "      <td>38.059198</td>\n",
       "      <td>-78.489893</td>\n",
       "    </tr>\n",
       "    <tr>\n",
       "      <th>17</th>\n",
       "      <td>38.075230</td>\n",
       "      <td>-78.503390</td>\n",
       "    </tr>\n",
       "    <tr>\n",
       "      <th>18</th>\n",
       "      <td>38.033072</td>\n",
       "      <td>-78.506743</td>\n",
       "    </tr>\n",
       "    <tr>\n",
       "      <th>19</th>\n",
       "      <td>38.055933</td>\n",
       "      <td>-78.481133</td>\n",
       "    </tr>\n",
       "    <tr>\n",
       "      <th>20</th>\n",
       "      <td>38.087030</td>\n",
       "      <td>-78.522390</td>\n",
       "    </tr>\n",
       "    <tr>\n",
       "      <th>21</th>\n",
       "      <td>36.562690</td>\n",
       "      <td>-79.363310</td>\n",
       "    </tr>\n",
       "    <tr>\n",
       "      <th>22</th>\n",
       "      <td>36.567795</td>\n",
       "      <td>-79.349205</td>\n",
       "    </tr>\n",
       "    <tr>\n",
       "      <th>23</th>\n",
       "      <td>36.572900</td>\n",
       "      <td>-79.335100</td>\n",
       "    </tr>\n",
       "    <tr>\n",
       "      <th>24</th>\n",
       "      <td>36.507063</td>\n",
       "      <td>-79.330103</td>\n",
       "    </tr>\n",
       "    <tr>\n",
       "      <th>25</th>\n",
       "      <td>36.479250</td>\n",
       "      <td>-79.313500</td>\n",
       "    </tr>\n",
       "    <tr>\n",
       "      <th>26</th>\n",
       "      <td>36.974513</td>\n",
       "      <td>-76.280580</td>\n",
       "    </tr>\n",
       "    <tr>\n",
       "      <th>27</th>\n",
       "      <td>36.993040</td>\n",
       "      <td>-76.276240</td>\n",
       "    </tr>\n",
       "    <tr>\n",
       "      <th>28</th>\n",
       "      <td>36.903300</td>\n",
       "      <td>-76.192200</td>\n",
       "    </tr>\n",
       "    <tr>\n",
       "      <th>29</th>\n",
       "      <td>37.039340</td>\n",
       "      <td>-76.348513</td>\n",
       "    </tr>\n",
       "    <tr>\n",
       "      <th>30</th>\n",
       "      <td>37.013870</td>\n",
       "      <td>-76.333700</td>\n",
       "    </tr>\n",
       "    <tr>\n",
       "      <th>31</th>\n",
       "      <td>37.015596</td>\n",
       "      <td>-76.334280</td>\n",
       "    </tr>\n",
       "    <tr>\n",
       "      <th>32</th>\n",
       "      <td>36.985236</td>\n",
       "      <td>-76.312740</td>\n",
       "    </tr>\n",
       "    <tr>\n",
       "      <th>33</th>\n",
       "      <td>36.991447</td>\n",
       "      <td>-76.316717</td>\n",
       "    </tr>\n",
       "    <tr>\n",
       "      <th>34</th>\n",
       "      <td>36.973180</td>\n",
       "      <td>-76.308004</td>\n",
       "    </tr>\n",
       "    <tr>\n",
       "      <th>35</th>\n",
       "      <td>36.960850</td>\n",
       "      <td>-76.300855</td>\n",
       "    </tr>\n",
       "    <tr>\n",
       "      <th>36</th>\n",
       "      <td>36.933490</td>\n",
       "      <td>-76.261740</td>\n",
       "    </tr>\n",
       "    <tr>\n",
       "      <th>37</th>\n",
       "      <td>36.982110</td>\n",
       "      <td>-76.312690</td>\n",
       "    </tr>\n",
       "    <tr>\n",
       "      <th>38</th>\n",
       "      <td>37.002244</td>\n",
       "      <td>-76.322208</td>\n",
       "    </tr>\n",
       "    <tr>\n",
       "      <th>39</th>\n",
       "      <td>36.969820</td>\n",
       "      <td>-76.279495</td>\n",
       "    </tr>\n",
       "    <tr>\n",
       "      <th>40</th>\n",
       "      <td>36.998800</td>\n",
       "      <td>-76.327780</td>\n",
       "    </tr>\n",
       "    <tr>\n",
       "      <th>41</th>\n",
       "      <td>36.932167</td>\n",
       "      <td>-76.252567</td>\n",
       "    </tr>\n",
       "    <tr>\n",
       "      <th>42</th>\n",
       "      <td>36.968647</td>\n",
       "      <td>-76.304720</td>\n",
       "    </tr>\n",
       "    <tr>\n",
       "      <th>43</th>\n",
       "      <td>36.903820</td>\n",
       "      <td>-76.236787</td>\n",
       "    </tr>\n",
       "  </tbody>\n",
       "</table>\n",
       "</div>"
      ],
      "text/plain": [
       "          lat        lon\n",
       "0   37.656523 -77.413727\n",
       "1   37.630755 -77.403370\n",
       "2   37.628435 -77.379253\n",
       "3   37.601893 -77.360857\n",
       "4   37.587913 -77.344570\n",
       "5   37.609785 -77.378940\n",
       "6   38.022000 -78.486000\n",
       "7   38.032900 -78.522600\n",
       "8   38.060467 -78.475733\n",
       "9   38.074250 -78.452300\n",
       "10  38.048667 -78.456733\n",
       "11  38.044725 -78.473200\n",
       "12  38.013833 -78.479200\n",
       "13  38.053938 -78.496434\n",
       "14  38.064647 -78.508192\n",
       "15  38.068047 -78.504143\n",
       "16  38.059198 -78.489893\n",
       "17  38.075230 -78.503390\n",
       "18  38.033072 -78.506743\n",
       "19  38.055933 -78.481133\n",
       "20  38.087030 -78.522390\n",
       "21  36.562690 -79.363310\n",
       "22  36.567795 -79.349205\n",
       "23  36.572900 -79.335100\n",
       "24  36.507063 -79.330103\n",
       "25  36.479250 -79.313500\n",
       "26  36.974513 -76.280580\n",
       "27  36.993040 -76.276240\n",
       "28  36.903300 -76.192200\n",
       "29  37.039340 -76.348513\n",
       "30  37.013870 -76.333700\n",
       "31  37.015596 -76.334280\n",
       "32  36.985236 -76.312740\n",
       "33  36.991447 -76.316717\n",
       "34  36.973180 -76.308004\n",
       "35  36.960850 -76.300855\n",
       "36  36.933490 -76.261740\n",
       "37  36.982110 -76.312690\n",
       "38  37.002244 -76.322208\n",
       "39  36.969820 -76.279495\n",
       "40  36.998800 -76.327780\n",
       "41  36.932167 -76.252567\n",
       "42  36.968647 -76.304720\n",
       "43  36.903820 -76.236787"
      ]
     },
     "execution_count": 14,
     "metadata": {},
     "output_type": "execute_result"
    }
   ],
   "source": [
    "# How many unique locations are there for the weather stations after reducing for complete records?\n",
    "lats = pd.concat( [lats1, lats2, lats4, lats5 ] ).unique()\n",
    "lons = pd.concat( [lons1, lons2, lons4, lons5 ] ).unique()\n",
    "\n",
    "d = { 'lat': lats, 'lon': lons}\n",
    "stations_df = pd.DataFrame(data=d)\n",
    "stations_df"
   ]
  },
  {
   "cell_type": "code",
   "execution_count": 15,
   "metadata": {},
   "outputs": [],
   "source": [
    "# Dependencies and Setup\n",
    "\n",
    "import gmaps\n",
    "\n",
    "# Google developer API key\n",
    "from api_keys import api_key\n",
    "\n",
    "gmaps.configure(api_key)"
   ]
  },
  {
   "cell_type": "code",
   "execution_count": 16,
   "metadata": {},
   "outputs": [
    {
     "data": {
      "application/vnd.jupyter.widget-view+json": {
       "model_id": "a2ed106f35514359bb7936485028e65b",
       "version_major": 2,
       "version_minor": 0
      },
      "text/plain": [
       "Figure(layout=FigureLayout(border='1px solid black', height='600px', margin='0 auto 0 auto', padding='1px', wi…"
      ]
     },
     "metadata": {},
     "output_type": "display_data"
    }
   ],
   "source": [
    "# Plot stations on a map to see distribution and locations to show the small sample size\n",
    "    \n",
    "figure_layout = {\n",
    "    \n",
    "    'width': '800px',\n",
    "    'height': '600px',\n",
    "    'border': '1px solid black',\n",
    "    'padding': '1px',\n",
    "    'margin': '0 auto 0 auto'\n",
    "}\n",
    "\n",
    "fig = gmaps.figure(layout=figure_layout)\n",
    "\n",
    "locations = stations_df[[\"lat\", \"lon\"]]\n",
    "\n",
    "stations_layer = gmaps.symbol_layer(\n",
    "    locations, fill_color=\"red\", stroke_color=\"red\", scale=3 )\n",
    "\n",
    "fig.add_layer(stations_layer)\n",
    "fig"
   ]
  },
  {
   "cell_type": "code",
   "execution_count": 17,
   "metadata": {},
   "outputs": [
    {
     "name": "stdout",
     "output_type": "stream",
     "text": [
      "(3389, 54)\n"
     ]
    }
   ],
   "source": [
    "print( df7.shape )\n",
    "pollen_wx_Region_df = df7\n",
    "\n",
    "#  Write the combined regional file to another CSV to use in the ML notebook.\n",
    "\n",
    "pollen_wx_Region_df.to_csv(\"./pollen_wx_Region.csv\")"
   ]
  }
 ],
 "metadata": {
  "kernelspec": {
   "display_name": "Python 3",
   "language": "python",
   "name": "python3"
  },
  "language_info": {
   "codemirror_mode": {
    "name": "ipython",
    "version": 3
   },
   "file_extension": ".py",
   "mimetype": "text/x-python",
   "name": "python",
   "nbconvert_exporter": "python",
   "pygments_lexer": "ipython3",
   "version": "3.6.9"
  }
 },
 "nbformat": 4,
 "nbformat_minor": 2
}
